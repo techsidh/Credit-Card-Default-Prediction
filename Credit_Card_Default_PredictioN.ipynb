{
  "nbformat": 4,
  "nbformat_minor": 0,
  "metadata": {
    "colab": {
      "provenance": [],
      "collapsed_sections": [],
      "authorship_tag": "ABX9TyOq/PGZ4PQJSkL6tyGsaVDm",
      "include_colab_link": true
    },
    "kernelspec": {
      "name": "python3",
      "display_name": "Python 3"
    },
    "language_info": {
      "name": "python"
    },
    "accelerator": "GPU",
    "gpuClass": "standard"
  },
  "cells": [
    {
      "cell_type": "markdown",
      "metadata": {
        "id": "view-in-github",
        "colab_type": "text"
      },
      "source": [
        "<a href=\"https://colab.research.google.com/github/techsidh/Credit-Card-Default-Prediction/blob/main/Credit_Card_Default_PredictioN.ipynb\" target=\"_parent\"><img src=\"https://colab.research.google.com/assets/colab-badge.svg\" alt=\"Open In Colab\"/></a>"
      ]
    },
    {
      "cell_type": "markdown",
      "metadata": {
        "id": "tOGC-qoyhJeX"
      },
      "source": [
        "# <b><u> Project Title : Predicting whether a customer will default on his/her credit card </u></b>"
      ]
    },
    {
      "cell_type": "markdown",
      "metadata": {
        "id": "Y06xIdG26kRF"
      },
      "source": [
        "## <b> Problem Description </b>\n",
        "\n",
        "### This project is aimed at predicting the case of customers default payments in Taiwan. From the perspective of risk management, the result of predictive accuracy of the estimated probability of default will be more valuable than the binary result of classification - credible or not credible clients. We can use the [K-S chart](https://www.listendata.com/2019/07/KS-Statistics-Python.html) to evaluate which customers will default on their credit card payments\n"
      ]
    },
    {
      "cell_type": "markdown",
      "metadata": {
        "id": "AlLxAtlziMbP"
      },
      "source": [
        "## <b> Data Description </b>\n",
        "\n",
        "### <b>Attribute Information: </b>\n",
        "\n",
        "### This research employed a binary variable, default payment (Yes = 1, No = 0), as the response variable. This study reviewed the literature and used the following 23 variables as explanatory variables:\n",
        "* ### X1: Amount of the given credit (NT dollar): it includes both the individual consumer credit and his/her family (supplementary) credit.\n",
        "* ### X2: Gender (1 = male; 2 = female).\n",
        "* ### X3: Education (1 = graduate school; 2 = university; 3 = high school; 4 = others).\n",
        "* ### X4: Marital status (1 = married; 2 = single; 3 = others).\n",
        "* ### X5: Age (year).\n",
        "* ### X6 - X11: History of past payment. We tracked the past monthly payment records (from April to September, 2005) as follows: X6 = the repayment status in September, 2005; X7 = the repayment status in August, 2005; . . .;X11 = the repayment status in April, 2005. The measurement scale for the repayment status is: -1 = pay duly; 1 = payment delay for one month; 2 = payment delay for two months; . . .; 8 = payment delay for eight months; 9 = payment delay for nine months and above.\n",
        "* ### X12-X17: Amount of bill statement (NT dollar). X12 = amount of bill statement in September, 2005; X13 = amount of bill statement in August, 2005; . . .; X17 = amount of bill statement in April, 2005.\n",
        "* ### X18-X23: Amount of previous payment (NT dollar). X18 = amount paid in September, 2005; X19 = amount paid in August, 2005; . . .;X23 = amount paid in April, 2005."
      ]
    },
    {
      "cell_type": "code",
      "source": [
        "!pip install --upgrade xlrd"
      ],
      "metadata": {
        "colab": {
          "base_uri": "https://localhost:8080/"
        },
        "id": "XoGqgui4kAkY",
        "outputId": "53df6138-2fa2-4453-cced-bdc5568f6ff4"
      },
      "execution_count": 50,
      "outputs": [
        {
          "output_type": "stream",
          "name": "stdout",
          "text": [
            "Looking in indexes: https://pypi.org/simple, https://us-python.pkg.dev/colab-wheels/public/simple/\n",
            "Requirement already satisfied: xlrd in /usr/local/lib/python3.7/dist-packages (2.0.1)\n"
          ]
        }
      ]
    },
    {
      "cell_type": "markdown",
      "source": [
        "##**IMPORTING NECESSARY LIBRARIES**"
      ],
      "metadata": {
        "id": "mKexBbpqw-Ov"
      }
    },
    {
      "cell_type": "code",
      "metadata": {
        "id": "dByMsuzT8Tnw"
      },
      "source": [
        "# Import packages and modules\n",
        "import numpy as np\n",
        "import pandas as pd\n",
        "import matplotlib.pyplot as plt\n",
        "import seaborn as sns\n",
        "%matplotlib inline \n",
        "import warnings\n",
        "warnings.simplefilter(\"ignore\")\n",
        "\n",
        "from sklearn.model_selection import KFold\n",
        "from sklearn.model_selection import RandomizedSearchCV\n",
        "from sklearn.model_selection import GridSearchCV\n",
        "from sklearn.model_selection import train_test_split\n",
        "from sklearn.model_selection import cross_val_score\n",
        "from sklearn.model_selection import cross_validate\n",
        "\n",
        "from sklearn.preprocessing import StandardScaler\n",
        "\n",
        "\n",
        "from sklearn import metrics  \n",
        "from sklearn.metrics import roc_auc_score\n",
        "from sklearn.metrics import confusion_matrix\n",
        "from sklearn.metrics import plot_confusion_matrix\n",
        "from sklearn.metrics import classification_report\n",
        "from sklearn.metrics import plot_roc_curve\n",
        "from sklearn.metrics import precision_recall_curve\n",
        "from sklearn.metrics import plot_precision_recall_curve\n",
        "\n",
        "from sklearn.linear_model import LogisticRegression\n",
        "from sklearn.ensemble import RandomForestClassifier\n",
        "import xgboost as xgb\n",
        "from xgboost import XGBClassifier\n",
        "\n",
        "from sklearn.pipeline import make_pipeline\n",
        "from sklearn.pipeline import Pipeline\n",
        "from sklearn.model_selection import StratifiedShuffleSplit"
      ],
      "execution_count": 51,
      "outputs": []
    },
    {
      "cell_type": "markdown",
      "source": [
        "##**Import Data**"
      ],
      "metadata": {
        "id": "ISnmew1UxMjN"
      }
    },
    {
      "cell_type": "code",
      "source": [
        "from google.colab import drive\n",
        "drive.mount('/content/drive')"
      ],
      "metadata": {
        "colab": {
          "base_uri": "https://localhost:8080/"
        },
        "id": "kLLK4GMRWq5f",
        "outputId": "fd3c4ebe-9994-42b2-eb84-315aea805d08"
      },
      "execution_count": 52,
      "outputs": [
        {
          "output_type": "stream",
          "name": "stdout",
          "text": [
            "Drive already mounted at /content/drive; to attempt to forcibly remount, call drive.mount(\"/content/drive\", force_remount=True).\n"
          ]
        }
      ]
    },
    {
      "cell_type": "code",
      "source": [
        "df = pd.read_excel(\"/content/drive/MyDrive/colab/CAP3/default of credit card clients.xls\", header = 1)"
      ],
      "metadata": {
        "id": "-JNVzURIUHTW"
      },
      "execution_count": 53,
      "outputs": []
    },
    {
      "cell_type": "markdown",
      "source": [
        "##**Understand the Data**"
      ],
      "metadata": {
        "id": "Deo2xQ1JxqSy"
      }
    },
    {
      "cell_type": "code",
      "source": [
        "# Examine the first 5 rows of the data\n",
        "df.head()"
      ],
      "metadata": {
        "colab": {
          "base_uri": "https://localhost:8080/",
          "height": 236
        },
        "id": "lG_2xKUhkSkf",
        "outputId": "2d3b8bd2-50d7-4e83-ac3a-205ef39675ba"
      },
      "execution_count": 54,
      "outputs": [
        {
          "output_type": "execute_result",
          "data": {
            "text/plain": [
              "   ID  LIMIT_BAL  SEX  EDUCATION  MARRIAGE  AGE  PAY_0  PAY_2  PAY_3  PAY_4  \\\n",
              "0   1      20000    2          2         1   24      2      2     -1     -1   \n",
              "1   2     120000    2          2         2   26     -1      2      0      0   \n",
              "2   3      90000    2          2         2   34      0      0      0      0   \n",
              "3   4      50000    2          2         1   37      0      0      0      0   \n",
              "4   5      50000    1          2         1   57     -1      0     -1      0   \n",
              "\n",
              "   ...  BILL_AMT4  BILL_AMT5  BILL_AMT6  PAY_AMT1  PAY_AMT2  PAY_AMT3  \\\n",
              "0  ...          0          0          0         0       689         0   \n",
              "1  ...       3272       3455       3261         0      1000      1000   \n",
              "2  ...      14331      14948      15549      1518      1500      1000   \n",
              "3  ...      28314      28959      29547      2000      2019      1200   \n",
              "4  ...      20940      19146      19131      2000     36681     10000   \n",
              "\n",
              "   PAY_AMT4  PAY_AMT5  PAY_AMT6  default payment next month  \n",
              "0         0         0         0                           1  \n",
              "1      1000         0      2000                           1  \n",
              "2      1000      1000      5000                           0  \n",
              "3      1100      1069      1000                           0  \n",
              "4      9000       689       679                           0  \n",
              "\n",
              "[5 rows x 25 columns]"
            ],
            "text/html": [
              "\n",
              "  <div id=\"df-f7e277e8-2ea6-49ee-858c-34090e203c37\">\n",
              "    <div class=\"colab-df-container\">\n",
              "      <div>\n",
              "<style scoped>\n",
              "    .dataframe tbody tr th:only-of-type {\n",
              "        vertical-align: middle;\n",
              "    }\n",
              "\n",
              "    .dataframe tbody tr th {\n",
              "        vertical-align: top;\n",
              "    }\n",
              "\n",
              "    .dataframe thead th {\n",
              "        text-align: right;\n",
              "    }\n",
              "</style>\n",
              "<table border=\"1\" class=\"dataframe\">\n",
              "  <thead>\n",
              "    <tr style=\"text-align: right;\">\n",
              "      <th></th>\n",
              "      <th>ID</th>\n",
              "      <th>LIMIT_BAL</th>\n",
              "      <th>SEX</th>\n",
              "      <th>EDUCATION</th>\n",
              "      <th>MARRIAGE</th>\n",
              "      <th>AGE</th>\n",
              "      <th>PAY_0</th>\n",
              "      <th>PAY_2</th>\n",
              "      <th>PAY_3</th>\n",
              "      <th>PAY_4</th>\n",
              "      <th>...</th>\n",
              "      <th>BILL_AMT4</th>\n",
              "      <th>BILL_AMT5</th>\n",
              "      <th>BILL_AMT6</th>\n",
              "      <th>PAY_AMT1</th>\n",
              "      <th>PAY_AMT2</th>\n",
              "      <th>PAY_AMT3</th>\n",
              "      <th>PAY_AMT4</th>\n",
              "      <th>PAY_AMT5</th>\n",
              "      <th>PAY_AMT6</th>\n",
              "      <th>default payment next month</th>\n",
              "    </tr>\n",
              "  </thead>\n",
              "  <tbody>\n",
              "    <tr>\n",
              "      <th>0</th>\n",
              "      <td>1</td>\n",
              "      <td>20000</td>\n",
              "      <td>2</td>\n",
              "      <td>2</td>\n",
              "      <td>1</td>\n",
              "      <td>24</td>\n",
              "      <td>2</td>\n",
              "      <td>2</td>\n",
              "      <td>-1</td>\n",
              "      <td>-1</td>\n",
              "      <td>...</td>\n",
              "      <td>0</td>\n",
              "      <td>0</td>\n",
              "      <td>0</td>\n",
              "      <td>0</td>\n",
              "      <td>689</td>\n",
              "      <td>0</td>\n",
              "      <td>0</td>\n",
              "      <td>0</td>\n",
              "      <td>0</td>\n",
              "      <td>1</td>\n",
              "    </tr>\n",
              "    <tr>\n",
              "      <th>1</th>\n",
              "      <td>2</td>\n",
              "      <td>120000</td>\n",
              "      <td>2</td>\n",
              "      <td>2</td>\n",
              "      <td>2</td>\n",
              "      <td>26</td>\n",
              "      <td>-1</td>\n",
              "      <td>2</td>\n",
              "      <td>0</td>\n",
              "      <td>0</td>\n",
              "      <td>...</td>\n",
              "      <td>3272</td>\n",
              "      <td>3455</td>\n",
              "      <td>3261</td>\n",
              "      <td>0</td>\n",
              "      <td>1000</td>\n",
              "      <td>1000</td>\n",
              "      <td>1000</td>\n",
              "      <td>0</td>\n",
              "      <td>2000</td>\n",
              "      <td>1</td>\n",
              "    </tr>\n",
              "    <tr>\n",
              "      <th>2</th>\n",
              "      <td>3</td>\n",
              "      <td>90000</td>\n",
              "      <td>2</td>\n",
              "      <td>2</td>\n",
              "      <td>2</td>\n",
              "      <td>34</td>\n",
              "      <td>0</td>\n",
              "      <td>0</td>\n",
              "      <td>0</td>\n",
              "      <td>0</td>\n",
              "      <td>...</td>\n",
              "      <td>14331</td>\n",
              "      <td>14948</td>\n",
              "      <td>15549</td>\n",
              "      <td>1518</td>\n",
              "      <td>1500</td>\n",
              "      <td>1000</td>\n",
              "      <td>1000</td>\n",
              "      <td>1000</td>\n",
              "      <td>5000</td>\n",
              "      <td>0</td>\n",
              "    </tr>\n",
              "    <tr>\n",
              "      <th>3</th>\n",
              "      <td>4</td>\n",
              "      <td>50000</td>\n",
              "      <td>2</td>\n",
              "      <td>2</td>\n",
              "      <td>1</td>\n",
              "      <td>37</td>\n",
              "      <td>0</td>\n",
              "      <td>0</td>\n",
              "      <td>0</td>\n",
              "      <td>0</td>\n",
              "      <td>...</td>\n",
              "      <td>28314</td>\n",
              "      <td>28959</td>\n",
              "      <td>29547</td>\n",
              "      <td>2000</td>\n",
              "      <td>2019</td>\n",
              "      <td>1200</td>\n",
              "      <td>1100</td>\n",
              "      <td>1069</td>\n",
              "      <td>1000</td>\n",
              "      <td>0</td>\n",
              "    </tr>\n",
              "    <tr>\n",
              "      <th>4</th>\n",
              "      <td>5</td>\n",
              "      <td>50000</td>\n",
              "      <td>1</td>\n",
              "      <td>2</td>\n",
              "      <td>1</td>\n",
              "      <td>57</td>\n",
              "      <td>-1</td>\n",
              "      <td>0</td>\n",
              "      <td>-1</td>\n",
              "      <td>0</td>\n",
              "      <td>...</td>\n",
              "      <td>20940</td>\n",
              "      <td>19146</td>\n",
              "      <td>19131</td>\n",
              "      <td>2000</td>\n",
              "      <td>36681</td>\n",
              "      <td>10000</td>\n",
              "      <td>9000</td>\n",
              "      <td>689</td>\n",
              "      <td>679</td>\n",
              "      <td>0</td>\n",
              "    </tr>\n",
              "  </tbody>\n",
              "</table>\n",
              "<p>5 rows × 25 columns</p>\n",
              "</div>\n",
              "      <button class=\"colab-df-convert\" onclick=\"convertToInteractive('df-f7e277e8-2ea6-49ee-858c-34090e203c37')\"\n",
              "              title=\"Convert this dataframe to an interactive table.\"\n",
              "              style=\"display:none;\">\n",
              "        \n",
              "  <svg xmlns=\"http://www.w3.org/2000/svg\" height=\"24px\"viewBox=\"0 0 24 24\"\n",
              "       width=\"24px\">\n",
              "    <path d=\"M0 0h24v24H0V0z\" fill=\"none\"/>\n",
              "    <path d=\"M18.56 5.44l.94 2.06.94-2.06 2.06-.94-2.06-.94-.94-2.06-.94 2.06-2.06.94zm-11 1L8.5 8.5l.94-2.06 2.06-.94-2.06-.94L8.5 2.5l-.94 2.06-2.06.94zm10 10l.94 2.06.94-2.06 2.06-.94-2.06-.94-.94-2.06-.94 2.06-2.06.94z\"/><path d=\"M17.41 7.96l-1.37-1.37c-.4-.4-.92-.59-1.43-.59-.52 0-1.04.2-1.43.59L10.3 9.45l-7.72 7.72c-.78.78-.78 2.05 0 2.83L4 21.41c.39.39.9.59 1.41.59.51 0 1.02-.2 1.41-.59l7.78-7.78 2.81-2.81c.8-.78.8-2.07 0-2.86zM5.41 20L4 18.59l7.72-7.72 1.47 1.35L5.41 20z\"/>\n",
              "  </svg>\n",
              "      </button>\n",
              "      \n",
              "  <style>\n",
              "    .colab-df-container {\n",
              "      display:flex;\n",
              "      flex-wrap:wrap;\n",
              "      gap: 12px;\n",
              "    }\n",
              "\n",
              "    .colab-df-convert {\n",
              "      background-color: #E8F0FE;\n",
              "      border: none;\n",
              "      border-radius: 50%;\n",
              "      cursor: pointer;\n",
              "      display: none;\n",
              "      fill: #1967D2;\n",
              "      height: 32px;\n",
              "      padding: 0 0 0 0;\n",
              "      width: 32px;\n",
              "    }\n",
              "\n",
              "    .colab-df-convert:hover {\n",
              "      background-color: #E2EBFA;\n",
              "      box-shadow: 0px 1px 2px rgba(60, 64, 67, 0.3), 0px 1px 3px 1px rgba(60, 64, 67, 0.15);\n",
              "      fill: #174EA6;\n",
              "    }\n",
              "\n",
              "    [theme=dark] .colab-df-convert {\n",
              "      background-color: #3B4455;\n",
              "      fill: #D2E3FC;\n",
              "    }\n",
              "\n",
              "    [theme=dark] .colab-df-convert:hover {\n",
              "      background-color: #434B5C;\n",
              "      box-shadow: 0px 1px 3px 1px rgba(0, 0, 0, 0.15);\n",
              "      filter: drop-shadow(0px 1px 2px rgba(0, 0, 0, 0.3));\n",
              "      fill: #FFFFFF;\n",
              "    }\n",
              "  </style>\n",
              "\n",
              "      <script>\n",
              "        const buttonEl =\n",
              "          document.querySelector('#df-f7e277e8-2ea6-49ee-858c-34090e203c37 button.colab-df-convert');\n",
              "        buttonEl.style.display =\n",
              "          google.colab.kernel.accessAllowed ? 'block' : 'none';\n",
              "\n",
              "        async function convertToInteractive(key) {\n",
              "          const element = document.querySelector('#df-f7e277e8-2ea6-49ee-858c-34090e203c37');\n",
              "          const dataTable =\n",
              "            await google.colab.kernel.invokeFunction('convertToInteractive',\n",
              "                                                     [key], {});\n",
              "          if (!dataTable) return;\n",
              "\n",
              "          const docLinkHtml = 'Like what you see? Visit the ' +\n",
              "            '<a target=\"_blank\" href=https://colab.research.google.com/notebooks/data_table.ipynb>data table notebook</a>'\n",
              "            + ' to learn more about interactive tables.';\n",
              "          element.innerHTML = '';\n",
              "          dataTable['output_type'] = 'display_data';\n",
              "          await google.colab.output.renderOutput(dataTable, element);\n",
              "          const docLink = document.createElement('div');\n",
              "          docLink.innerHTML = docLinkHtml;\n",
              "          element.appendChild(docLink);\n",
              "        }\n",
              "      </script>\n",
              "    </div>\n",
              "  </div>\n",
              "  "
            ]
          },
          "metadata": {},
          "execution_count": 54
        }
      ]
    },
    {
      "cell_type": "code",
      "source": [
        "df.shape"
      ],
      "metadata": {
        "colab": {
          "base_uri": "https://localhost:8080/"
        },
        "id": "2hYWHTgsUW4n",
        "outputId": "18212689-da7e-4fd5-b4a1-d1e9c0542667"
      },
      "execution_count": 55,
      "outputs": [
        {
          "output_type": "execute_result",
          "data": {
            "text/plain": [
              "(30000, 25)"
            ]
          },
          "metadata": {},
          "execution_count": 55
        }
      ]
    },
    {
      "cell_type": "code",
      "source": [
        "# Understand the data by printing out all column names\n",
        "df.columns"
      ],
      "metadata": {
        "colab": {
          "base_uri": "https://localhost:8080/"
        },
        "id": "eKnhyKFosgAZ",
        "outputId": "ce166f39-a130-437a-f2d0-d38aa8d427b5"
      },
      "execution_count": 56,
      "outputs": [
        {
          "output_type": "execute_result",
          "data": {
            "text/plain": [
              "Index(['ID', 'LIMIT_BAL', 'SEX', 'EDUCATION', 'MARRIAGE', 'AGE', 'PAY_0',\n",
              "       'PAY_2', 'PAY_3', 'PAY_4', 'PAY_5', 'PAY_6', 'BILL_AMT1', 'BILL_AMT2',\n",
              "       'BILL_AMT3', 'BILL_AMT4', 'BILL_AMT5', 'BILL_AMT6', 'PAY_AMT1',\n",
              "       'PAY_AMT2', 'PAY_AMT3', 'PAY_AMT4', 'PAY_AMT5', 'PAY_AMT6',\n",
              "       'default payment next month'],\n",
              "      dtype='object')"
            ]
          },
          "metadata": {},
          "execution_count": 56
        }
      ]
    },
    {
      "cell_type": "code",
      "source": [
        "# Understand the data by checking the first row\n",
        "df.loc[0]"
      ],
      "metadata": {
        "colab": {
          "base_uri": "https://localhost:8080/"
        },
        "id": "rE8KZTHfyMlI",
        "outputId": "fb2e9bee-6b0c-4c6f-ac4c-52c380ef67f8"
      },
      "execution_count": 57,
      "outputs": [
        {
          "output_type": "execute_result",
          "data": {
            "text/plain": [
              "ID                                1\n",
              "LIMIT_BAL                     20000\n",
              "SEX                               2\n",
              "EDUCATION                         2\n",
              "MARRIAGE                          1\n",
              "AGE                              24\n",
              "PAY_0                             2\n",
              "PAY_2                             2\n",
              "PAY_3                            -1\n",
              "PAY_4                            -1\n",
              "PAY_5                            -2\n",
              "PAY_6                            -2\n",
              "BILL_AMT1                      3913\n",
              "BILL_AMT2                      3102\n",
              "BILL_AMT3                       689\n",
              "BILL_AMT4                         0\n",
              "BILL_AMT5                         0\n",
              "BILL_AMT6                         0\n",
              "PAY_AMT1                          0\n",
              "PAY_AMT2                        689\n",
              "PAY_AMT3                          0\n",
              "PAY_AMT4                          0\n",
              "PAY_AMT5                          0\n",
              "PAY_AMT6                          0\n",
              "default payment next month        1\n",
              "Name: 0, dtype: int64"
            ]
          },
          "metadata": {},
          "execution_count": 57
        }
      ]
    },
    {
      "cell_type": "markdown",
      "source": [
        "**What do 0 and -2 mean in PAY_X columns?**\n",
        "\n",
        "\n",
        "**From dataset documentation**: \n",
        "* **PAY_0**: Repayment status in September, 2005 (**-1=pay duly**, **1=payment delay for one month**, **2=payment delay for two months**, … **8=payment delay for eight months**, **9=payment delay for nine months and above**). \n",
        "\n",
        "* **Notice code 0 and -2 are in the PAY_X columns but are not included in the data description.**\n",
        "\n",
        "\n",
        "[**After searching online**\n",
        "](https://www.kaggle.com/datasets/uciml/default-of-credit-card-clients-dataset/discussion/34608)\n",
        "\n",
        "\n",
        "* **-2: No consumption**\n",
        "* **-1: Paid in full**\n",
        "* **0: The use of revolving credit**\n"
      ],
      "metadata": {
        "id": "PyGpCwqfyMOP"
      }
    },
    {
      "cell_type": "code",
      "source": [
        "# Sort the repayment status codes in PAY_X columns by melting them into 1 column\n",
        "# Notice there are 2 undocumented codes: 0,-2\n",
        "\n",
        "pay = df[['PAY_0','PAY_2','PAY_3','PAY_4','PAY_5','PAY_6']]\n",
        "pay_melt = pd.melt(pay)\n",
        "print(pay_melt['value'].value_counts())"
      ],
      "metadata": {
        "colab": {
          "base_uri": "https://localhost:8080/"
        },
        "id": "5TG2-9q4x6FI",
        "outputId": "8a63a8cc-2e9d-460c-8647-2ab1ce2dd951"
      },
      "execution_count": 58,
      "outputs": [
        {
          "output_type": "stream",
          "name": "stdout",
          "text": [
            " 0    95919\n",
            "-1    34640\n",
            "-2    24415\n",
            " 2    18964\n",
            " 1     3722\n",
            " 3     1430\n",
            " 4      453\n",
            " 7      218\n",
            " 5      137\n",
            " 6       74\n",
            " 8       28\n",
            "Name: value, dtype: int64\n"
          ]
        }
      ]
    },
    {
      "cell_type": "code",
      "source": [
        "# Get the proportion of customers who had default payment in the next month\n",
        "# About 22% customers had default payment next month\n",
        "\n",
        "df['default payment next month'].value_counts(normalize=True)"
      ],
      "metadata": {
        "colab": {
          "base_uri": "https://localhost:8080/"
        },
        "id": "ugNsCy2_6c6I",
        "outputId": "39ecbf57-4843-4f19-e1f0-89354e753e29"
      },
      "execution_count": 59,
      "outputs": [
        {
          "output_type": "execute_result",
          "data": {
            "text/plain": [
              "0    0.7788\n",
              "1    0.2212\n",
              "Name: default payment next month, dtype: float64"
            ]
          },
          "metadata": {},
          "execution_count": 59
        }
      ]
    },
    {
      "cell_type": "markdown",
      "source": [
        "##**Data Cleanning**"
      ],
      "metadata": {
        "id": "HHn2Yfko82pP"
      }
    },
    {
      "cell_type": "markdown",
      "source": [
        "**Check missing values, column type and column names**"
      ],
      "metadata": {
        "id": "K3mry0i61rGY"
      }
    },
    {
      "cell_type": "code",
      "source": [
        "# Check column names, columan data type and indentify any missing values\n",
        "df.info()"
      ],
      "metadata": {
        "colab": {
          "base_uri": "https://localhost:8080/"
        },
        "id": "mpZ1CeXr867W",
        "outputId": "c9caae38-d295-4db0-9d44-4a942843f27e"
      },
      "execution_count": 60,
      "outputs": [
        {
          "output_type": "stream",
          "name": "stdout",
          "text": [
            "<class 'pandas.core.frame.DataFrame'>\n",
            "RangeIndex: 30000 entries, 0 to 29999\n",
            "Data columns (total 25 columns):\n",
            " #   Column                      Non-Null Count  Dtype\n",
            "---  ------                      --------------  -----\n",
            " 0   ID                          30000 non-null  int64\n",
            " 1   LIMIT_BAL                   30000 non-null  int64\n",
            " 2   SEX                         30000 non-null  int64\n",
            " 3   EDUCATION                   30000 non-null  int64\n",
            " 4   MARRIAGE                    30000 non-null  int64\n",
            " 5   AGE                         30000 non-null  int64\n",
            " 6   PAY_0                       30000 non-null  int64\n",
            " 7   PAY_2                       30000 non-null  int64\n",
            " 8   PAY_3                       30000 non-null  int64\n",
            " 9   PAY_4                       30000 non-null  int64\n",
            " 10  PAY_5                       30000 non-null  int64\n",
            " 11  PAY_6                       30000 non-null  int64\n",
            " 12  BILL_AMT1                   30000 non-null  int64\n",
            " 13  BILL_AMT2                   30000 non-null  int64\n",
            " 14  BILL_AMT3                   30000 non-null  int64\n",
            " 15  BILL_AMT4                   30000 non-null  int64\n",
            " 16  BILL_AMT5                   30000 non-null  int64\n",
            " 17  BILL_AMT6                   30000 non-null  int64\n",
            " 18  PAY_AMT1                    30000 non-null  int64\n",
            " 19  PAY_AMT2                    30000 non-null  int64\n",
            " 20  PAY_AMT3                    30000 non-null  int64\n",
            " 21  PAY_AMT4                    30000 non-null  int64\n",
            " 22  PAY_AMT5                    30000 non-null  int64\n",
            " 23  PAY_AMT6                    30000 non-null  int64\n",
            " 24  default payment next month  30000 non-null  int64\n",
            "dtypes: int64(25)\n",
            "memory usage: 5.7 MB\n"
          ]
        }
      ]
    },
    {
      "cell_type": "code",
      "source": [
        "# Change inconsistent column names \"PAY_0\" to 'PAY_1', 'default.payment.next.month'to 'DEF_PAY_NM'\n",
        "\n",
        "df.rename(columns={'PAY_0':'PAY_1','default payment next month':'def_pay_nm'},inplace = True)\n",
        "df.columns"
      ],
      "metadata": {
        "colab": {
          "base_uri": "https://localhost:8080/"
        },
        "id": "U74DTJKxCwyH",
        "outputId": "24126bb7-c3ae-46be-916b-70487c3a1fe0"
      },
      "execution_count": 61,
      "outputs": [
        {
          "output_type": "execute_result",
          "data": {
            "text/plain": [
              "Index(['ID', 'LIMIT_BAL', 'SEX', 'EDUCATION', 'MARRIAGE', 'AGE', 'PAY_1',\n",
              "       'PAY_2', 'PAY_3', 'PAY_4', 'PAY_5', 'PAY_6', 'BILL_AMT1', 'BILL_AMT2',\n",
              "       'BILL_AMT3', 'BILL_AMT4', 'BILL_AMT5', 'BILL_AMT6', 'PAY_AMT1',\n",
              "       'PAY_AMT2', 'PAY_AMT3', 'PAY_AMT4', 'PAY_AMT5', 'PAY_AMT6',\n",
              "       'def_pay_nm'],\n",
              "      dtype='object')"
            ]
          },
          "metadata": {},
          "execution_count": 61
        }
      ]
    },
    {
      "cell_type": "markdown",
      "source": [
        "**There is no missing value, all columns have the correct type, and all columns are named consistently since we have renamed the last inconsistent column name to 'DEF_PAY_NMO.**"
      ],
      "metadata": {
        "id": "y4k8wln_18OK"
      }
    },
    {
      "cell_type": "markdown",
      "source": [
        "**Check duplicate records**\n",
        "\n"
      ],
      "metadata": {
        "id": "laf54JuI2FcA"
      }
    },
    {
      "cell_type": "code",
      "source": [
        "# Check if there is any duplicate IDs\n",
        "condition = bool(df.duplicated(subset = 'ID').any())\n",
        "\n",
        "if condition:\n",
        "    print('There are duplicate IDs')\n",
        "else:\n",
        "    print('No duplicate IDs')"
      ],
      "metadata": {
        "colab": {
          "base_uri": "https://localhost:8080/"
        },
        "id": "sLuxVnHfEQY5",
        "outputId": "336d0cd4-e635-4181-ed7d-d2d559997288"
      },
      "execution_count": 62,
      "outputs": [
        {
          "output_type": "stream",
          "name": "stdout",
          "text": [
            "No duplicate IDs\n"
          ]
        }
      ]
    },
    {
      "cell_type": "markdown",
      "source": [
        "**Identify outliers**"
      ],
      "metadata": {
        "id": "TpVwz0-LGAlN"
      }
    },
    {
      "cell_type": "code",
      "source": [
        "# Use histogram to view the distribution of credit limit\n",
        "plt.hist(df[\"LIMIT_BAL\"])\n",
        "plt.xlabel('Credit_Limit in NT$', fontweight='bold')\n",
        "plt.ylabel('No. of Customers', fontweight='bold')\n",
        "plt.show()"
      ],
      "metadata": {
        "colab": {
          "base_uri": "https://localhost:8080/",
          "height": 280
        },
        "id": "NOSj9gPDF_6n",
        "outputId": "285ed79d-5436-4fb8-eee6-b9ec580b1fbe"
      },
      "execution_count": 63,
      "outputs": [
        {
          "output_type": "display_data",
          "data": {
            "text/plain": [
              "<Figure size 432x288 with 1 Axes>"
            ],
            "image/png": "[encoded data removed]"
          },
          "metadata": {
            "needs_background": "light"
          }
        }
      ]
    },
    {
      "cell_type": "code",
      "source": [
        "# Use boxplot to identify any outlier in credit limit\n",
        "df[\"LIMIT_BAL\"].plot(kind=\"box\")\n",
        "plt.xlabel('Credit limit in NT$')\n",
        "plt.ylabel('No. of Customers')\n",
        "plt.show()"
      ],
      "metadata": {
        "colab": {
          "base_uri": "https://localhost:8080/",
          "height": 291
        },
        "id": "NGSXBlXFGP4u",
        "outputId": "c4a925c7-4647-47f9-c74a-eb4b26bc73ea"
      },
      "execution_count": 64,
      "outputs": [
        {
          "output_type": "display_data",
          "data": {
            "text/plain": [
              "<Figure size 432x288 with 1 Axes>"
            ],
            "image/png": "[encoded data removed]"
          },
          "metadata": {
            "needs_background": "light"
          }
        }
      ]
    },
    {
      "cell_type": "markdown",
      "source": [
        "**Take a close look at the outlier. The observations from other columns indicate that this was just a customer who has an excellent payment history,\n",
        "Therefore it should be considered as a valid data** "
      ],
      "metadata": {
        "id": "nB8eUYYK24Nm"
      }
    },
    {
      "cell_type": "code",
      "source": [
        "outliers = df.loc[df['LIMIT_BAL']>900000]\n",
        "outliers"
      ],
      "metadata": {
        "colab": {
          "base_uri": "https://localhost:8080/",
          "height": 110
        },
        "id": "MniHsdV4Gjnz",
        "outputId": "7c1c04e3-1d3a-421b-8dfb-e5d9e69ed301"
      },
      "execution_count": 65,
      "outputs": [
        {
          "output_type": "execute_result",
          "data": {
            "text/plain": [
              "        ID  LIMIT_BAL  SEX  EDUCATION  MARRIAGE  AGE  PAY_1  PAY_2  PAY_3  \\\n",
              "2197  2198    1000000    2          1         1   47      0      0      0   \n",
              "\n",
              "      PAY_4  ...  BILL_AMT4  BILL_AMT5  BILL_AMT6  PAY_AMT1  PAY_AMT2  \\\n",
              "2197     -1  ...     891586     927171     961664     50784     50723   \n",
              "\n",
              "      PAY_AMT3  PAY_AMT4  PAY_AMT5  PAY_AMT6  def_pay_nm  \n",
              "2197    896040     50000     50000     50256           0  \n",
              "\n",
              "[1 rows x 25 columns]"
            ],
            "text/html": [
              "\n",
              "  <div id=\"df-b9ce8a57-ffdf-4037-9656-749c8de7a246\">\n",
              "    <div class=\"colab-df-container\">\n",
              "      <div>\n",
              "<style scoped>\n",
              "    .dataframe tbody tr th:only-of-type {\n",
              "        vertical-align: middle;\n",
              "    }\n",
              "\n",
              "    .dataframe tbody tr th {\n",
              "        vertical-align: top;\n",
              "    }\n",
              "\n",
              "    .dataframe thead th {\n",
              "        text-align: right;\n",
              "    }\n",
              "</style>\n",
              "<table border=\"1\" class=\"dataframe\">\n",
              "  <thead>\n",
              "    <tr style=\"text-align: right;\">\n",
              "      <th></th>\n",
              "      <th>ID</th>\n",
              "      <th>LIMIT_BAL</th>\n",
              "      <th>SEX</th>\n",
              "      <th>EDUCATION</th>\n",
              "      <th>MARRIAGE</th>\n",
              "      <th>AGE</th>\n",
              "      <th>PAY_1</th>\n",
              "      <th>PAY_2</th>\n",
              "      <th>PAY_3</th>\n",
              "      <th>PAY_4</th>\n",
              "      <th>...</th>\n",
              "      <th>BILL_AMT4</th>\n",
              "      <th>BILL_AMT5</th>\n",
              "      <th>BILL_AMT6</th>\n",
              "      <th>PAY_AMT1</th>\n",
              "      <th>PAY_AMT2</th>\n",
              "      <th>PAY_AMT3</th>\n",
              "      <th>PAY_AMT4</th>\n",
              "      <th>PAY_AMT5</th>\n",
              "      <th>PAY_AMT6</th>\n",
              "      <th>def_pay_nm</th>\n",
              "    </tr>\n",
              "  </thead>\n",
              "  <tbody>\n",
              "    <tr>\n",
              "      <th>2197</th>\n",
              "      <td>2198</td>\n",
              "      <td>1000000</td>\n",
              "      <td>2</td>\n",
              "      <td>1</td>\n",
              "      <td>1</td>\n",
              "      <td>47</td>\n",
              "      <td>0</td>\n",
              "      <td>0</td>\n",
              "      <td>0</td>\n",
              "      <td>-1</td>\n",
              "      <td>...</td>\n",
              "      <td>891586</td>\n",
              "      <td>927171</td>\n",
              "      <td>961664</td>\n",
              "      <td>50784</td>\n",
              "      <td>50723</td>\n",
              "      <td>896040</td>\n",
              "      <td>50000</td>\n",
              "      <td>50000</td>\n",
              "      <td>50256</td>\n",
              "      <td>0</td>\n",
              "    </tr>\n",
              "  </tbody>\n",
              "</table>\n",
              "<p>1 rows × 25 columns</p>\n",
              "</div>\n",
              "      <button class=\"colab-df-convert\" onclick=\"convertToInteractive('df-b9ce8a57-ffdf-4037-9656-749c8de7a246')\"\n",
              "              title=\"Convert this dataframe to an interactive table.\"\n",
              "              style=\"display:none;\">\n",
              "        \n",
              "  <svg xmlns=\"http://www.w3.org/2000/svg\" height=\"24px\"viewBox=\"0 0 24 24\"\n",
              "       width=\"24px\">\n",
              "    <path d=\"M0 0h24v24H0V0z\" fill=\"none\"/>\n",
              "    <path d=\"M18.56 5.44l.94 2.06.94-2.06 2.06-.94-2.06-.94-.94-2.06-.94 2.06-2.06.94zm-11 1L8.5 8.5l.94-2.06 2.06-.94-2.06-.94L8.5 2.5l-.94 2.06-2.06.94zm10 10l.94 2.06.94-2.06 2.06-.94-2.06-.94-.94-2.06-.94 2.06-2.06.94z\"/><path d=\"M17.41 7.96l-1.37-1.37c-.4-.4-.92-.59-1.43-.59-.52 0-1.04.2-1.43.59L10.3 9.45l-7.72 7.72c-.78.78-.78 2.05 0 2.83L4 21.41c.39.39.9.59 1.41.59.51 0 1.02-.2 1.41-.59l7.78-7.78 2.81-2.81c.8-.78.8-2.07 0-2.86zM5.41 20L4 18.59l7.72-7.72 1.47 1.35L5.41 20z\"/>\n",
              "  </svg>\n",
              "      </button>\n",
              "      \n",
              "  <style>\n",
              "    .colab-df-container {\n",
              "      display:flex;\n",
              "      flex-wrap:wrap;\n",
              "      gap: 12px;\n",
              "    }\n",
              "\n",
              "    .colab-df-convert {\n",
              "      background-color: #E8F0FE;\n",
              "      border: none;\n",
              "      border-radius: 50%;\n",
              "      cursor: pointer;\n",
              "      display: none;\n",
              "      fill: #1967D2;\n",
              "      height: 32px;\n",
              "      padding: 0 0 0 0;\n",
              "      width: 32px;\n",
              "    }\n",
              "\n",
              "    .colab-df-convert:hover {\n",
              "      background-color: #E2EBFA;\n",
              "      box-shadow: 0px 1px 2px rgba(60, 64, 67, 0.3), 0px 1px 3px 1px rgba(60, 64, 67, 0.15);\n",
              "      fill: #174EA6;\n",
              "    }\n",
              "\n",
              "    [theme=dark] .colab-df-convert {\n",
              "      background-color: #3B4455;\n",
              "      fill: #D2E3FC;\n",
              "    }\n",
              "\n",
              "    [theme=dark] .colab-df-convert:hover {\n",
              "      background-color: #434B5C;\n",
              "      box-shadow: 0px 1px 3px 1px rgba(0, 0, 0, 0.15);\n",
              "      filter: drop-shadow(0px 1px 2px rgba(0, 0, 0, 0.3));\n",
              "      fill: #FFFFFF;\n",
              "    }\n",
              "  </style>\n",
              "\n",
              "      <script>\n",
              "        const buttonEl =\n",
              "          document.querySelector('#df-b9ce8a57-ffdf-4037-9656-749c8de7a246 button.colab-df-convert');\n",
              "        buttonEl.style.display =\n",
              "          google.colab.kernel.accessAllowed ? 'block' : 'none';\n",
              "\n",
              "        async function convertToInteractive(key) {\n",
              "          const element = document.querySelector('#df-b9ce8a57-ffdf-4037-9656-749c8de7a246');\n",
              "          const dataTable =\n",
              "            await google.colab.kernel.invokeFunction('convertToInteractive',\n",
              "                                                     [key], {});\n",
              "          if (!dataTable) return;\n",
              "\n",
              "          const docLinkHtml = 'Like what you see? Visit the ' +\n",
              "            '<a target=\"_blank\" href=https://colab.research.google.com/notebooks/data_table.ipynb>data table notebook</a>'\n",
              "            + ' to learn more about interactive tables.';\n",
              "          element.innerHTML = '';\n",
              "          dataTable['output_type'] = 'display_data';\n",
              "          await google.colab.output.renderOutput(dataTable, element);\n",
              "          const docLink = document.createElement('div');\n",
              "          docLink.innerHTML = docLinkHtml;\n",
              "          element.appendChild(docLink);\n",
              "        }\n",
              "      </script>\n",
              "    </div>\n",
              "  </div>\n",
              "  "
            ]
          },
          "metadata": {},
          "execution_count": 65
        }
      ]
    },
    {
      "cell_type": "markdown",
      "source": [
        "**Check numerical columns**"
      ],
      "metadata": {
        "id": "Jo37OBi33LdX"
      }
    },
    {
      "cell_type": "code",
      "source": [
        "# Get the statistic summary of the columns\n",
        "# No data is extremly unresonable in these columns\n",
        "\n",
        "df.describe()"
      ],
      "metadata": {
        "colab": {
          "base_uri": "https://localhost:8080/",
          "height": 394
        },
        "id": "V7jRZ04KGq-c",
        "outputId": "c01a6331-09fc-4602-a33f-815bb512a2c8"
      },
      "execution_count": 66,
      "outputs": [
        {
          "output_type": "execute_result",
          "data": {
            "text/plain": [
              "                 ID       LIMIT_BAL           SEX     EDUCATION      MARRIAGE  \\\n",
              "count  30000.000000    30000.000000  30000.000000  30000.000000  30000.000000   \n",
              "mean   15000.500000   167484.322667      1.603733      1.853133      1.551867   \n",
              "std     8660.398374   129747.661567      0.489129      0.790349      0.521970   \n",
              "min        1.000000    10000.000000      1.000000      0.000000      0.000000   \n",
              "25%     7500.750000    50000.000000      1.000000      1.000000      1.000000   \n",
              "50%    15000.500000   140000.000000      2.000000      2.000000      2.000000   \n",
              "75%    22500.250000   240000.000000      2.000000      2.000000      2.000000   \n",
              "max    30000.000000  1000000.000000      2.000000      6.000000      3.000000   \n",
              "\n",
              "                AGE         PAY_1         PAY_2         PAY_3         PAY_4  \\\n",
              "count  30000.000000  30000.000000  30000.000000  30000.000000  30000.000000   \n",
              "mean      35.485500     -0.016700     -0.133767     -0.166200     -0.220667   \n",
              "std        9.217904      1.123802      1.197186      1.196868      1.169139   \n",
              "min       21.000000     -2.000000     -2.000000     -2.000000     -2.000000   \n",
              "25%       28.000000     -1.000000     -1.000000     -1.000000     -1.000000   \n",
              "50%       34.000000      0.000000      0.000000      0.000000      0.000000   \n",
              "75%       41.000000      0.000000      0.000000      0.000000      0.000000   \n",
              "max       79.000000      8.000000      8.000000      8.000000      8.000000   \n",
              "\n",
              "       ...      BILL_AMT4      BILL_AMT5      BILL_AMT6       PAY_AMT1  \\\n",
              "count  ...   30000.000000   30000.000000   30000.000000   30000.000000   \n",
              "mean   ...   43262.948967   40311.400967   38871.760400    5663.580500   \n",
              "std    ...   64332.856134   60797.155770   59554.107537   16563.280354   \n",
              "min    ... -170000.000000  -81334.000000 -339603.000000       0.000000   \n",
              "25%    ...    2326.750000    1763.000000    1256.000000    1000.000000   \n",
              "50%    ...   19052.000000   18104.500000   17071.000000    2100.000000   \n",
              "75%    ...   54506.000000   50190.500000   49198.250000    5006.000000   \n",
              "max    ...  891586.000000  927171.000000  961664.000000  873552.000000   \n",
              "\n",
              "           PAY_AMT2      PAY_AMT3       PAY_AMT4       PAY_AMT5  \\\n",
              "count  3.000000e+04   30000.00000   30000.000000   30000.000000   \n",
              "mean   5.921163e+03    5225.68150    4826.076867    4799.387633   \n",
              "std    2.304087e+04   17606.96147   15666.159744   15278.305679   \n",
              "min    0.000000e+00       0.00000       0.000000       0.000000   \n",
              "25%    8.330000e+02     390.00000     296.000000     252.500000   \n",
              "50%    2.009000e+03    1800.00000    1500.000000    1500.000000   \n",
              "75%    5.000000e+03    4505.00000    4013.250000    4031.500000   \n",
              "max    1.684259e+06  896040.00000  621000.000000  426529.000000   \n",
              "\n",
              "            PAY_AMT6    def_pay_nm  \n",
              "count   30000.000000  30000.000000  \n",
              "mean     5215.502567      0.221200  \n",
              "std     17777.465775      0.415062  \n",
              "min         0.000000      0.000000  \n",
              "25%       117.750000      0.000000  \n",
              "50%      1500.000000      0.000000  \n",
              "75%      4000.000000      0.000000  \n",
              "max    528666.000000      1.000000  \n",
              "\n",
              "[8 rows x 25 columns]"
            ],
            "text/html": [
              "\n",
              "  <div id=\"df-8bc1bca1-9723-4ef4-a2cf-d4c080394acf\">\n",
              "    <div class=\"colab-df-container\">\n",
              "      <div>\n",
              "<style scoped>\n",
              "    .dataframe tbody tr th:only-of-type {\n",
              "        vertical-align: middle;\n",
              "    }\n",
              "\n",
              "    .dataframe tbody tr th {\n",
              "        vertical-align: top;\n",
              "    }\n",
              "\n",
              "    .dataframe thead th {\n",
              "        text-align: right;\n",
              "    }\n",
              "</style>\n",
              "<table border=\"1\" class=\"dataframe\">\n",
              "  <thead>\n",
              "    <tr style=\"text-align: right;\">\n",
              "      <th></th>\n",
              "      <th>ID</th>\n",
              "      <th>LIMIT_BAL</th>\n",
              "      <th>SEX</th>\n",
              "      <th>EDUCATION</th>\n",
              "      <th>MARRIAGE</th>\n",
              "      <th>AGE</th>\n",
              "      <th>PAY_1</th>\n",
              "      <th>PAY_2</th>\n",
              "      <th>PAY_3</th>\n",
              "      <th>PAY_4</th>\n",
              "      <th>...</th>\n",
              "      <th>BILL_AMT4</th>\n",
              "      <th>BILL_AMT5</th>\n",
              "      <th>BILL_AMT6</th>\n",
              "      <th>PAY_AMT1</th>\n",
              "      <th>PAY_AMT2</th>\n",
              "      <th>PAY_AMT3</th>\n",
              "      <th>PAY_AMT4</th>\n",
              "      <th>PAY_AMT5</th>\n",
              "      <th>PAY_AMT6</th>\n",
              "      <th>def_pay_nm</th>\n",
              "    </tr>\n",
              "  </thead>\n",
              "  <tbody>\n",
              "    <tr>\n",
              "      <th>count</th>\n",
              "      <td>30000.000000</td>\n",
              "      <td>30000.000000</td>\n",
              "      <td>30000.000000</td>\n",
              "      <td>30000.000000</td>\n",
              "      <td>30000.000000</td>\n",
              "      <td>30000.000000</td>\n",
              "      <td>30000.000000</td>\n",
              "      <td>30000.000000</td>\n",
              "      <td>30000.000000</td>\n",
              "      <td>30000.000000</td>\n",
              "      <td>...</td>\n",
              "      <td>30000.000000</td>\n",
              "      <td>30000.000000</td>\n",
              "      <td>30000.000000</td>\n",
              "      <td>30000.000000</td>\n",
              "      <td>3.000000e+04</td>\n",
              "      <td>30000.00000</td>\n",
              "      <td>30000.000000</td>\n",
              "      <td>30000.000000</td>\n",
              "      <td>30000.000000</td>\n",
              "      <td>30000.000000</td>\n",
              "    </tr>\n",
              "    <tr>\n",
              "      <th>mean</th>\n",
              "      <td>15000.500000</td>\n",
              "      <td>167484.322667</td>\n",
              "      <td>1.603733</td>\n",
              "      <td>1.853133</td>\n",
              "      <td>1.551867</td>\n",
              "      <td>35.485500</td>\n",
              "      <td>-0.016700</td>\n",
              "      <td>-0.133767</td>\n",
              "      <td>-0.166200</td>\n",
              "      <td>-0.220667</td>\n",
              "      <td>...</td>\n",
              "      <td>43262.948967</td>\n",
              "      <td>40311.400967</td>\n",
              "      <td>38871.760400</td>\n",
              "      <td>5663.580500</td>\n",
              "      <td>5.921163e+03</td>\n",
              "      <td>5225.68150</td>\n",
              "      <td>4826.076867</td>\n",
              "      <td>4799.387633</td>\n",
              "      <td>5215.502567</td>\n",
              "      <td>0.221200</td>\n",
              "    </tr>\n",
              "    <tr>\n",
              "      <th>std</th>\n",
              "      <td>8660.398374</td>\n",
              "      <td>129747.661567</td>\n",
              "      <td>0.489129</td>\n",
              "      <td>0.790349</td>\n",
              "      <td>0.521970</td>\n",
              "      <td>9.217904</td>\n",
              "      <td>1.123802</td>\n",
              "      <td>1.197186</td>\n",
              "      <td>1.196868</td>\n",
              "      <td>1.169139</td>\n",
              "      <td>...</td>\n",
              "      <td>64332.856134</td>\n",
              "      <td>60797.155770</td>\n",
              "      <td>59554.107537</td>\n",
              "      <td>16563.280354</td>\n",
              "      <td>2.304087e+04</td>\n",
              "      <td>17606.96147</td>\n",
              "      <td>15666.159744</td>\n",
              "      <td>15278.305679</td>\n",
              "      <td>17777.465775</td>\n",
              "      <td>0.415062</td>\n",
              "    </tr>\n",
              "    <tr>\n",
              "      <th>min</th>\n",
              "      <td>1.000000</td>\n",
              "      <td>10000.000000</td>\n",
              "      <td>1.000000</td>\n",
              "      <td>0.000000</td>\n",
              "      <td>0.000000</td>\n",
              "      <td>21.000000</td>\n",
              "      <td>-2.000000</td>\n",
              "      <td>-2.000000</td>\n",
              "      <td>-2.000000</td>\n",
              "      <td>-2.000000</td>\n",
              "      <td>...</td>\n",
              "      <td>-170000.000000</td>\n",
              "      <td>-81334.000000</td>\n",
              "      <td>-339603.000000</td>\n",
              "      <td>0.000000</td>\n",
              "      <td>0.000000e+00</td>\n",
              "      <td>0.00000</td>\n",
              "      <td>0.000000</td>\n",
              "      <td>0.000000</td>\n",
              "      <td>0.000000</td>\n",
              "      <td>0.000000</td>\n",
              "    </tr>\n",
              "    <tr>\n",
              "      <th>25%</th>\n",
              "      <td>7500.750000</td>\n",
              "      <td>50000.000000</td>\n",
              "      <td>1.000000</td>\n",
              "      <td>1.000000</td>\n",
              "      <td>1.000000</td>\n",
              "      <td>28.000000</td>\n",
              "      <td>-1.000000</td>\n",
              "      <td>-1.000000</td>\n",
              "      <td>-1.000000</td>\n",
              "      <td>-1.000000</td>\n",
              "      <td>...</td>\n",
              "      <td>2326.750000</td>\n",
              "      <td>1763.000000</td>\n",
              "      <td>1256.000000</td>\n",
              "      <td>1000.000000</td>\n",
              "      <td>8.330000e+02</td>\n",
              "      <td>390.00000</td>\n",
              "      <td>296.000000</td>\n",
              "      <td>252.500000</td>\n",
              "      <td>117.750000</td>\n",
              "      <td>0.000000</td>\n",
              "    </tr>\n",
              "    <tr>\n",
              "      <th>50%</th>\n",
              "      <td>15000.500000</td>\n",
              "      <td>140000.000000</td>\n",
              "      <td>2.000000</td>\n",
              "      <td>2.000000</td>\n",
              "      <td>2.000000</td>\n",
              "      <td>34.000000</td>\n",
              "      <td>0.000000</td>\n",
              "      <td>0.000000</td>\n",
              "      <td>0.000000</td>\n",
              "      <td>0.000000</td>\n",
              "      <td>...</td>\n",
              "      <td>19052.000000</td>\n",
              "      <td>18104.500000</td>\n",
              "      <td>17071.000000</td>\n",
              "      <td>2100.000000</td>\n",
              "      <td>2.009000e+03</td>\n",
              "      <td>1800.00000</td>\n",
              "      <td>1500.000000</td>\n",
              "      <td>1500.000000</td>\n",
              "      <td>1500.000000</td>\n",
              "      <td>0.000000</td>\n",
              "    </tr>\n",
              "    <tr>\n",
              "      <th>75%</th>\n",
              "      <td>22500.250000</td>\n",
              "      <td>240000.000000</td>\n",
              "      <td>2.000000</td>\n",
              "      <td>2.000000</td>\n",
              "      <td>2.000000</td>\n",
              "      <td>41.000000</td>\n",
              "      <td>0.000000</td>\n",
              "      <td>0.000000</td>\n",
              "      <td>0.000000</td>\n",
              "      <td>0.000000</td>\n",
              "      <td>...</td>\n",
              "      <td>54506.000000</td>\n",
              "      <td>50190.500000</td>\n",
              "      <td>49198.250000</td>\n",
              "      <td>5006.000000</td>\n",
              "      <td>5.000000e+03</td>\n",
              "      <td>4505.00000</td>\n",
              "      <td>4013.250000</td>\n",
              "      <td>4031.500000</td>\n",
              "      <td>4000.000000</td>\n",
              "      <td>0.000000</td>\n",
              "    </tr>\n",
              "    <tr>\n",
              "      <th>max</th>\n",
              "      <td>30000.000000</td>\n",
              "      <td>1000000.000000</td>\n",
              "      <td>2.000000</td>\n",
              "      <td>6.000000</td>\n",
              "      <td>3.000000</td>\n",
              "      <td>79.000000</td>\n",
              "      <td>8.000000</td>\n",
              "      <td>8.000000</td>\n",
              "      <td>8.000000</td>\n",
              "      <td>8.000000</td>\n",
              "      <td>...</td>\n",
              "      <td>891586.000000</td>\n",
              "      <td>927171.000000</td>\n",
              "      <td>961664.000000</td>\n",
              "      <td>873552.000000</td>\n",
              "      <td>1.684259e+06</td>\n",
              "      <td>896040.00000</td>\n",
              "      <td>621000.000000</td>\n",
              "      <td>426529.000000</td>\n",
              "      <td>528666.000000</td>\n",
              "      <td>1.000000</td>\n",
              "    </tr>\n",
              "  </tbody>\n",
              "</table>\n",
              "<p>8 rows × 25 columns</p>\n",
              "</div>\n",
              "      <button class=\"colab-df-convert\" onclick=\"convertToInteractive('df-8bc1bca1-9723-4ef4-a2cf-d4c080394acf')\"\n",
              "              title=\"Convert this dataframe to an interactive table.\"\n",
              "              style=\"display:none;\">\n",
              "        \n",
              "  <svg xmlns=\"http://www.w3.org/2000/svg\" height=\"24px\"viewBox=\"0 0 24 24\"\n",
              "       width=\"24px\">\n",
              "    <path d=\"M0 0h24v24H0V0z\" fill=\"none\"/>\n",
              "    <path d=\"M18.56 5.44l.94 2.06.94-2.06 2.06-.94-2.06-.94-.94-2.06-.94 2.06-2.06.94zm-11 1L8.5 8.5l.94-2.06 2.06-.94-2.06-.94L8.5 2.5l-.94 2.06-2.06.94zm10 10l.94 2.06.94-2.06 2.06-.94-2.06-.94-.94-2.06-.94 2.06-2.06.94z\"/><path d=\"M17.41 7.96l-1.37-1.37c-.4-.4-.92-.59-1.43-.59-.52 0-1.04.2-1.43.59L10.3 9.45l-7.72 7.72c-.78.78-.78 2.05 0 2.83L4 21.41c.39.39.9.59 1.41.59.51 0 1.02-.2 1.41-.59l7.78-7.78 2.81-2.81c.8-.78.8-2.07 0-2.86zM5.41 20L4 18.59l7.72-7.72 1.47 1.35L5.41 20z\"/>\n",
              "  </svg>\n",
              "      </button>\n",
              "      \n",
              "  <style>\n",
              "    .colab-df-container {\n",
              "      display:flex;\n",
              "      flex-wrap:wrap;\n",
              "      gap: 12px;\n",
              "    }\n",
              "\n",
              "    .colab-df-convert {\n",
              "      background-color: #E8F0FE;\n",
              "      border: none;\n",
              "      border-radius: 50%;\n",
              "      cursor: pointer;\n",
              "      display: none;\n",
              "      fill: #1967D2;\n",
              "      height: 32px;\n",
              "      padding: 0 0 0 0;\n",
              "      width: 32px;\n",
              "    }\n",
              "\n",
              "    .colab-df-convert:hover {\n",
              "      background-color: #E2EBFA;\n",
              "      box-shadow: 0px 1px 2px rgba(60, 64, 67, 0.3), 0px 1px 3px 1px rgba(60, 64, 67, 0.15);\n",
              "      fill: #174EA6;\n",
              "    }\n",
              "\n",
              "    [theme=dark] .colab-df-convert {\n",
              "      background-color: #3B4455;\n",
              "      fill: #D2E3FC;\n",
              "    }\n",
              "\n",
              "    [theme=dark] .colab-df-convert:hover {\n",
              "      background-color: #434B5C;\n",
              "      box-shadow: 0px 1px 3px 1px rgba(0, 0, 0, 0.15);\n",
              "      filter: drop-shadow(0px 1px 2px rgba(0, 0, 0, 0.3));\n",
              "      fill: #FFFFFF;\n",
              "    }\n",
              "  </style>\n",
              "\n",
              "      <script>\n",
              "        const buttonEl =\n",
              "          document.querySelector('#df-8bc1bca1-9723-4ef4-a2cf-d4c080394acf button.colab-df-convert');\n",
              "        buttonEl.style.display =\n",
              "          google.colab.kernel.accessAllowed ? 'block' : 'none';\n",
              "\n",
              "        async function convertToInteractive(key) {\n",
              "          const element = document.querySelector('#df-8bc1bca1-9723-4ef4-a2cf-d4c080394acf');\n",
              "          const dataTable =\n",
              "            await google.colab.kernel.invokeFunction('convertToInteractive',\n",
              "                                                     [key], {});\n",
              "          if (!dataTable) return;\n",
              "\n",
              "          const docLinkHtml = 'Like what you see? Visit the ' +\n",
              "            '<a target=\"_blank\" href=https://colab.research.google.com/notebooks/data_table.ipynb>data table notebook</a>'\n",
              "            + ' to learn more about interactive tables.';\n",
              "          element.innerHTML = '';\n",
              "          dataTable['output_type'] = 'display_data';\n",
              "          await google.colab.output.renderOutput(dataTable, element);\n",
              "          const docLink = document.createElement('div');\n",
              "          docLink.innerHTML = docLinkHtml;\n",
              "          element.appendChild(docLink);\n",
              "        }\n",
              "      </script>\n",
              "    </div>\n",
              "  </div>\n",
              "  "
            ]
          },
          "metadata": {},
          "execution_count": 66
        }
      ]
    },
    {
      "cell_type": "markdown",
      "source": [
        "**Check for Correlation Among Features**"
      ],
      "metadata": {
        "id": "rHRuJBe858pa"
      }
    },
    {
      "cell_type": "code",
      "source": [
        "df.corr().sum()"
      ],
      "metadata": {
        "colab": {
          "base_uri": "https://localhost:8080/"
        },
        "id": "kUHw2yU76H_P",
        "outputId": "d54bb26c-70d7-4a11-819e-626fac16d7d6"
      },
      "execution_count": 67,
      "outputs": [
        {
          "output_type": "execute_result",
          "data": {
            "text/plain": [
              "ID            1.158266\n",
              "LIMIT_BAL     2.059811\n",
              "SEX           0.379608\n",
              "EDUCATION     1.338436\n",
              "MARRIAGE      0.251273\n",
              "AGE           1.005761\n",
              "PAY_1         4.513079\n",
              "PAY_2         5.321098\n",
              "PAY_3         5.507154\n",
              "PAY_4         5.710418\n",
              "PAY_5         5.778773\n",
              "PAY_6         5.635586\n",
              "BILL_AMT1     7.792829\n",
              "BILL_AMT2     8.119624\n",
              "BILL_AMT3     8.350207\n",
              "BILL_AMT4     8.469271\n",
              "BILL_AMT5     8.444851\n",
              "BILL_AMT6     8.322344\n",
              "PAY_AMT1      3.325401\n",
              "PAY_AMT2      3.031866\n",
              "PAY_AMT3      3.195075\n",
              "PAY_AMT4      2.911115\n",
              "PAY_AMT5      2.807583\n",
              "PAY_AMT6      2.748434\n",
              "def_pay_nm    1.818256\n",
              "dtype: float64"
            ]
          },
          "metadata": {},
          "execution_count": 67
        }
      ]
    },
    {
      "cell_type": "code",
      "source": [
        "#Heatmap for visualizing correaltion\n",
        "\n",
        "plt.figure(figsize = (20,15))\n",
        "sns.heatmap(df.corr(),annot = True)"
      ],
      "metadata": {
        "colab": {
          "base_uri": "https://localhost:8080/",
          "height": 935
        },
        "id": "yvimZ2C16OV8",
        "outputId": "83c10662-11c3-4ece-9678-0a7e32e899c9"
      },
      "execution_count": 20,
      "outputs": [
        {
          "output_type": "execute_result",
          "data": {
            "text/plain": [
              "<matplotlib.axes._subplots.AxesSubplot at 0x7fb4cfd59f90>"
            ]
          },
          "metadata": {},
          "execution_count": 20
        },
        {
          "output_type": "display_data",
          "data": {
            "text/plain": [
              "<Figure size 1440x1080 with 2 Axes>"
            ],
            "image/png": "[encoded data removed]"
          },
          "metadata": {
            "needs_background": "light"
          }
        }
      ]
    },
    {
      "cell_type": "markdown",
      "source": [
        "**Check categorical columns**"
      ],
      "metadata": {
        "id": "8rGITjKXHK7z"
      }
    },
    {
      "cell_type": "markdown",
      "source": [
        "**SEX', 'EDUCATION' and 'MARRIAGE Columns** :\n",
        "\n",
        "**The 'SEX' column looks fine, while 'EDUCATION' and 'MARRIAGE' columns have some undocumented data and 'EDUCATION' column has duplicated values in different codes.**"
      ],
      "metadata": {
        "id": "4OlYv1qtGxuA"
      }
    },
    {
      "cell_type": "code",
      "source": [
        "# Get SEX column's distribution. 1: male; 2: female\n",
        "# No undocumented SEX code\n",
        "\n",
        "df[\"SEX\"].value_counts()"
      ],
      "metadata": {
        "colab": {
          "base_uri": "https://localhost:8080/"
        },
        "id": "kSrn7CWPHLax",
        "outputId": "a6decee9-8b53-43d5-b63e-0930f85f2dbe"
      },
      "execution_count": 67,
      "outputs": [
        {
          "output_type": "execute_result",
          "data": {
            "text/plain": [
              "2    18112\n",
              "1    11888\n",
              "Name: SEX, dtype: int64"
            ]
          },
          "metadata": {},
          "execution_count": 67
        }
      ]
    },
    {
      "cell_type": "code",
      "source": [
        "# Change sex code to 'F' and 'M' and use category as datatype\n",
        "\n",
        "df[\"SEX\"]=df[\"SEX\"].map({1:'M',2:'F'}).astype('category')\n",
        "df[\"SEX\"].dtypes"
      ],
      "metadata": {
        "colab": {
          "base_uri": "https://localhost:8080/"
        },
        "id": "IiLwvWyWHMv5",
        "outputId": "2a514cb6-8e9e-473d-eec2-5137ed279aae"
      },
      "execution_count": 68,
      "outputs": [
        {
          "output_type": "execute_result",
          "data": {
            "text/plain": [
              "CategoricalDtype(categories=['F', 'M'], ordered=False)"
            ]
          },
          "metadata": {},
          "execution_count": 68
        }
      ]
    },
    {
      "cell_type": "markdown",
      "source": [
        "**EDUCATION column**: notice **5** and **6** are both recorded as **'unknown'** and there is **0** which **isn't explained in the dataset description**. \n",
        "\n",
        "* **Since the amounts are so small, let's combine 0,4,5,6 to 0 which means 'other'.**"
      ],
      "metadata": {
        "id": "VLKfRL9E3ztV"
      }
    },
    {
      "cell_type": "code",
      "source": [
        "# EDUCATION: (1=graduate school, 2=university, 3=high school, 4=others, 5=unknown, 6=unknown)\n",
        "\n",
        "df[\"EDUCATION\"].unique()"
      ],
      "metadata": {
        "colab": {
          "base_uri": "https://localhost:8080/"
        },
        "id": "1NBEXrKDHXHI",
        "outputId": "c97bedad-bd4d-4be4-ded4-708f52b95a64"
      },
      "execution_count": 69,
      "outputs": [
        {
          "output_type": "execute_result",
          "data": {
            "text/plain": [
              "array([2, 1, 3, 5, 4, 6, 0])"
            ]
          },
          "metadata": {},
          "execution_count": 69
        }
      ]
    },
    {
      "cell_type": "code",
      "source": [
        "# Get the total counts of each EDUCATION level\n",
        "\n",
        "df[\"EDUCATION\"].value_counts()"
      ],
      "metadata": {
        "colab": {
          "base_uri": "https://localhost:8080/"
        },
        "id": "YbcKb_gXHkxB",
        "outputId": "90f44cc2-997b-419b-cde4-41ce07b4ab2a"
      },
      "execution_count": 70,
      "outputs": [
        {
          "output_type": "execute_result",
          "data": {
            "text/plain": [
              "2    14030\n",
              "1    10585\n",
              "3     4917\n",
              "5      280\n",
              "4      123\n",
              "6       51\n",
              "0       14\n",
              "Name: EDUCATION, dtype: int64"
            ]
          },
          "metadata": {},
          "execution_count": 70
        }
      ]
    },
    {
      "cell_type": "code",
      "source": [
        "# Change values 4, 5, 6 to 0 and define 0 as 'others'\n",
        "# 1=graduate school, 2=university, 3=high school, 0=others\n",
        "\n",
        "df[\"EDUCATION\"] = df[\"EDUCATION\"].replace({4:0,5:0,6:0})\n",
        "df[\"EDUCATION\"].value_counts()"
      ],
      "metadata": {
        "colab": {
          "base_uri": "https://localhost:8080/"
        },
        "id": "JA3TE_86H_JA",
        "outputId": "06c019b4-8294-4be7-a794-5554e4a6824f"
      },
      "execution_count": 71,
      "outputs": [
        {
          "output_type": "execute_result",
          "data": {
            "text/plain": [
              "2    14030\n",
              "1    10585\n",
              "3     4917\n",
              "0      468\n",
              "Name: EDUCATION, dtype: int64"
            ]
          },
          "metadata": {},
          "execution_count": 71
        }
      ]
    },
    {
      "cell_type": "markdown",
      "source": [
        "**'MARRIAGE' column**:\n",
        "\n",
        "**what does 0 mean in 'MARRIAGE'?** \n",
        "\n",
        "* **Since there are only 0.18% (or 54) observations of 0, we will combine 0 and 3 in one value as 'others'.**"
      ],
      "metadata": {
        "id": "FU6ALEHC4YgO"
      }
    },
    {
      "cell_type": "code",
      "source": [
        "# From dataset description: MARRIAGE: Marital status (1=married, 2=single, 3=others), but there is also 0\n",
        "\n",
        "df[\"MARRIAGE\"].unique()"
      ],
      "metadata": {
        "colab": {
          "base_uri": "https://localhost:8080/"
        },
        "id": "QTeh-j9mIGmw",
        "outputId": "5854f581-8d61-4e59-9816-dd8a0149f960"
      },
      "execution_count": 72,
      "outputs": [
        {
          "output_type": "execute_result",
          "data": {
            "text/plain": [
              "array([1, 2, 3, 0])"
            ]
          },
          "metadata": {},
          "execution_count": 72
        }
      ]
    },
    {
      "cell_type": "code",
      "source": [
        "# How many customers had \"MARRIAGE\" status as 0?\n",
        "\n",
        "df[\"MARRIAGE\"].value_counts(normalize=True)"
      ],
      "metadata": {
        "colab": {
          "base_uri": "https://localhost:8080/"
        },
        "id": "pfU9SI2lIN-v",
        "outputId": "a582c336-b963-4aa0-a506-c20e26dd9c55"
      },
      "execution_count": 73,
      "outputs": [
        {
          "output_type": "execute_result",
          "data": {
            "text/plain": [
              "2    0.532133\n",
              "1    0.455300\n",
              "3    0.010767\n",
              "0    0.001800\n",
              "Name: MARRIAGE, dtype: float64"
            ]
          },
          "metadata": {},
          "execution_count": 73
        }
      ]
    },
    {
      "cell_type": "code",
      "source": [
        "# Combine 0 and 3 by changing the value 0 into 3\n",
        "\n",
        "df[\"MARRIAGE\"] = df[\"MARRIAGE\"].replace({0:3})\n",
        "df[\"MARRIAGE\"].value_counts(normalize=True)"
      ],
      "metadata": {
        "colab": {
          "base_uri": "https://localhost:8080/"
        },
        "id": "9vKag1VqISQx",
        "outputId": "c2f9d57c-6c88-4313-b583-fa85e26108d5"
      },
      "execution_count": 74,
      "outputs": [
        {
          "output_type": "execute_result",
          "data": {
            "text/plain": [
              "2    0.532133\n",
              "1    0.455300\n",
              "3    0.012567\n",
              "Name: MARRIAGE, dtype: float64"
            ]
          },
          "metadata": {},
          "execution_count": 74
        }
      ]
    },
    {
      "cell_type": "markdown",
      "source": [
        "##**EDA**"
      ],
      "metadata": {
        "id": "BdktmZbiHWyZ"
      }
    },
    {
      "cell_type": "code",
      "source": [
        "# Set ID as dataframe index\n",
        "\n",
        "df.set_index('ID', inplace = True)\n",
        "df.head()"
      ],
      "metadata": {
        "colab": {
          "base_uri": "https://localhost:8080/",
          "height": 267
        },
        "id": "toVnZ13bIZOg",
        "outputId": "ef506187-6db9-4cea-81fb-c7fb3ad47405"
      },
      "execution_count": 75,
      "outputs": [
        {
          "output_type": "execute_result",
          "data": {
            "text/plain": [
              "    LIMIT_BAL SEX  EDUCATION  MARRIAGE  AGE  PAY_1  PAY_2  PAY_3  PAY_4  \\\n",
              "ID                                                                        \n",
              "1       20000   F          2         1   24      2      2     -1     -1   \n",
              "2      120000   F          2         2   26     -1      2      0      0   \n",
              "3       90000   F          2         2   34      0      0      0      0   \n",
              "4       50000   F          2         1   37      0      0      0      0   \n",
              "5       50000   M          2         1   57     -1      0     -1      0   \n",
              "\n",
              "    PAY_5  ...  BILL_AMT4  BILL_AMT5  BILL_AMT6  PAY_AMT1  PAY_AMT2  PAY_AMT3  \\\n",
              "ID         ...                                                                  \n",
              "1      -2  ...          0          0          0         0       689         0   \n",
              "2       0  ...       3272       3455       3261         0      1000      1000   \n",
              "3       0  ...      14331      14948      15549      1518      1500      1000   \n",
              "4       0  ...      28314      28959      29547      2000      2019      1200   \n",
              "5       0  ...      20940      19146      19131      2000     36681     10000   \n",
              "\n",
              "    PAY_AMT4  PAY_AMT5  PAY_AMT6  def_pay_nm  \n",
              "ID                                            \n",
              "1          0         0         0           1  \n",
              "2       1000         0      2000           1  \n",
              "3       1000      1000      5000           0  \n",
              "4       1100      1069      1000           0  \n",
              "5       9000       689       679           0  \n",
              "\n",
              "[5 rows x 24 columns]"
            ],
            "text/html": [
              "\n",
              "  <div id=\"df-88ac266b-3907-4589-af32-5f21140d3ba3\">\n",
              "    <div class=\"colab-df-container\">\n",
              "      <div>\n",
              "<style scoped>\n",
              "    .dataframe tbody tr th:only-of-type {\n",
              "        vertical-align: middle;\n",
              "    }\n",
              "\n",
              "    .dataframe tbody tr th {\n",
              "        vertical-align: top;\n",
              "    }\n",
              "\n",
              "    .dataframe thead th {\n",
              "        text-align: right;\n",
              "    }\n",
              "</style>\n",
              "<table border=\"1\" class=\"dataframe\">\n",
              "  <thead>\n",
              "    <tr style=\"text-align: right;\">\n",
              "      <th></th>\n",
              "      <th>LIMIT_BAL</th>\n",
              "      <th>SEX</th>\n",
              "      <th>EDUCATION</th>\n",
              "      <th>MARRIAGE</th>\n",
              "      <th>AGE</th>\n",
              "      <th>PAY_1</th>\n",
              "      <th>PAY_2</th>\n",
              "      <th>PAY_3</th>\n",
              "      <th>PAY_4</th>\n",
              "      <th>PAY_5</th>\n",
              "      <th>...</th>\n",
              "      <th>BILL_AMT4</th>\n",
              "      <th>BILL_AMT5</th>\n",
              "      <th>BILL_AMT6</th>\n",
              "      <th>PAY_AMT1</th>\n",
              "      <th>PAY_AMT2</th>\n",
              "      <th>PAY_AMT3</th>\n",
              "      <th>PAY_AMT4</th>\n",
              "      <th>PAY_AMT5</th>\n",
              "      <th>PAY_AMT6</th>\n",
              "      <th>def_pay_nm</th>\n",
              "    </tr>\n",
              "    <tr>\n",
              "      <th>ID</th>\n",
              "      <th></th>\n",
              "      <th></th>\n",
              "      <th></th>\n",
              "      <th></th>\n",
              "      <th></th>\n",
              "      <th></th>\n",
              "      <th></th>\n",
              "      <th></th>\n",
              "      <th></th>\n",
              "      <th></th>\n",
              "      <th></th>\n",
              "      <th></th>\n",
              "      <th></th>\n",
              "      <th></th>\n",
              "      <th></th>\n",
              "      <th></th>\n",
              "      <th></th>\n",
              "      <th></th>\n",
              "      <th></th>\n",
              "      <th></th>\n",
              "      <th></th>\n",
              "    </tr>\n",
              "  </thead>\n",
              "  <tbody>\n",
              "    <tr>\n",
              "      <th>1</th>\n",
              "      <td>20000</td>\n",
              "      <td>F</td>\n",
              "      <td>2</td>\n",
              "      <td>1</td>\n",
              "      <td>24</td>\n",
              "      <td>2</td>\n",
              "      <td>2</td>\n",
              "      <td>-1</td>\n",
              "      <td>-1</td>\n",
              "      <td>-2</td>\n",
              "      <td>...</td>\n",
              "      <td>0</td>\n",
              "      <td>0</td>\n",
              "      <td>0</td>\n",
              "      <td>0</td>\n",
              "      <td>689</td>\n",
              "      <td>0</td>\n",
              "      <td>0</td>\n",
              "      <td>0</td>\n",
              "      <td>0</td>\n",
              "      <td>1</td>\n",
              "    </tr>\n",
              "    <tr>\n",
              "      <th>2</th>\n",
              "      <td>120000</td>\n",
              "      <td>F</td>\n",
              "      <td>2</td>\n",
              "      <td>2</td>\n",
              "      <td>26</td>\n",
              "      <td>-1</td>\n",
              "      <td>2</td>\n",
              "      <td>0</td>\n",
              "      <td>0</td>\n",
              "      <td>0</td>\n",
              "      <td>...</td>\n",
              "      <td>3272</td>\n",
              "      <td>3455</td>\n",
              "      <td>3261</td>\n",
              "      <td>0</td>\n",
              "      <td>1000</td>\n",
              "      <td>1000</td>\n",
              "      <td>1000</td>\n",
              "      <td>0</td>\n",
              "      <td>2000</td>\n",
              "      <td>1</td>\n",
              "    </tr>\n",
              "    <tr>\n",
              "      <th>3</th>\n",
              "      <td>90000</td>\n",
              "      <td>F</td>\n",
              "      <td>2</td>\n",
              "      <td>2</td>\n",
              "      <td>34</td>\n",
              "      <td>0</td>\n",
              "      <td>0</td>\n",
              "      <td>0</td>\n",
              "      <td>0</td>\n",
              "      <td>0</td>\n",
              "      <td>...</td>\n",
              "      <td>14331</td>\n",
              "      <td>14948</td>\n",
              "      <td>15549</td>\n",
              "      <td>1518</td>\n",
              "      <td>1500</td>\n",
              "      <td>1000</td>\n",
              "      <td>1000</td>\n",
              "      <td>1000</td>\n",
              "      <td>5000</td>\n",
              "      <td>0</td>\n",
              "    </tr>\n",
              "    <tr>\n",
              "      <th>4</th>\n",
              "      <td>50000</td>\n",
              "      <td>F</td>\n",
              "      <td>2</td>\n",
              "      <td>1</td>\n",
              "      <td>37</td>\n",
              "      <td>0</td>\n",
              "      <td>0</td>\n",
              "      <td>0</td>\n",
              "      <td>0</td>\n",
              "      <td>0</td>\n",
              "      <td>...</td>\n",
              "      <td>28314</td>\n",
              "      <td>28959</td>\n",
              "      <td>29547</td>\n",
              "      <td>2000</td>\n",
              "      <td>2019</td>\n",
              "      <td>1200</td>\n",
              "      <td>1100</td>\n",
              "      <td>1069</td>\n",
              "      <td>1000</td>\n",
              "      <td>0</td>\n",
              "    </tr>\n",
              "    <tr>\n",
              "      <th>5</th>\n",
              "      <td>50000</td>\n",
              "      <td>M</td>\n",
              "      <td>2</td>\n",
              "      <td>1</td>\n",
              "      <td>57</td>\n",
              "      <td>-1</td>\n",
              "      <td>0</td>\n",
              "      <td>-1</td>\n",
              "      <td>0</td>\n",
              "      <td>0</td>\n",
              "      <td>...</td>\n",
              "      <td>20940</td>\n",
              "      <td>19146</td>\n",
              "      <td>19131</td>\n",
              "      <td>2000</td>\n",
              "      <td>36681</td>\n",
              "      <td>10000</td>\n",
              "      <td>9000</td>\n",
              "      <td>689</td>\n",
              "      <td>679</td>\n",
              "      <td>0</td>\n",
              "    </tr>\n",
              "  </tbody>\n",
              "</table>\n",
              "<p>5 rows × 24 columns</p>\n",
              "</div>\n",
              "      <button class=\"colab-df-convert\" onclick=\"convertToInteractive('df-88ac266b-3907-4589-af32-5f21140d3ba3')\"\n",
              "              title=\"Convert this dataframe to an interactive table.\"\n",
              "              style=\"display:none;\">\n",
              "        \n",
              "  <svg xmlns=\"http://www.w3.org/2000/svg\" height=\"24px\"viewBox=\"0 0 24 24\"\n",
              "       width=\"24px\">\n",
              "    <path d=\"M0 0h24v24H0V0z\" fill=\"none\"/>\n",
              "    <path d=\"M18.56 5.44l.94 2.06.94-2.06 2.06-.94-2.06-.94-.94-2.06-.94 2.06-2.06.94zm-11 1L8.5 8.5l.94-2.06 2.06-.94-2.06-.94L8.5 2.5l-.94 2.06-2.06.94zm10 10l.94 2.06.94-2.06 2.06-.94-2.06-.94-.94-2.06-.94 2.06-2.06.94z\"/><path d=\"M17.41 7.96l-1.37-1.37c-.4-.4-.92-.59-1.43-.59-.52 0-1.04.2-1.43.59L10.3 9.45l-7.72 7.72c-.78.78-.78 2.05 0 2.83L4 21.41c.39.39.9.59 1.41.59.51 0 1.02-.2 1.41-.59l7.78-7.78 2.81-2.81c.8-.78.8-2.07 0-2.86zM5.41 20L4 18.59l7.72-7.72 1.47 1.35L5.41 20z\"/>\n",
              "  </svg>\n",
              "      </button>\n",
              "      \n",
              "  <style>\n",
              "    .colab-df-container {\n",
              "      display:flex;\n",
              "      flex-wrap:wrap;\n",
              "      gap: 12px;\n",
              "    }\n",
              "\n",
              "    .colab-df-convert {\n",
              "      background-color: #E8F0FE;\n",
              "      border: none;\n",
              "      border-radius: 50%;\n",
              "      cursor: pointer;\n",
              "      display: none;\n",
              "      fill: #1967D2;\n",
              "      height: 32px;\n",
              "      padding: 0 0 0 0;\n",
              "      width: 32px;\n",
              "    }\n",
              "\n",
              "    .colab-df-convert:hover {\n",
              "      background-color: #E2EBFA;\n",
              "      box-shadow: 0px 1px 2px rgba(60, 64, 67, 0.3), 0px 1px 3px 1px rgba(60, 64, 67, 0.15);\n",
              "      fill: #174EA6;\n",
              "    }\n",
              "\n",
              "    [theme=dark] .colab-df-convert {\n",
              "      background-color: #3B4455;\n",
              "      fill: #D2E3FC;\n",
              "    }\n",
              "\n",
              "    [theme=dark] .colab-df-convert:hover {\n",
              "      background-color: #434B5C;\n",
              "      box-shadow: 0px 1px 3px 1px rgba(0, 0, 0, 0.15);\n",
              "      filter: drop-shadow(0px 1px 2px rgba(0, 0, 0, 0.3));\n",
              "      fill: #FFFFFF;\n",
              "    }\n",
              "  </style>\n",
              "\n",
              "      <script>\n",
              "        const buttonEl =\n",
              "          document.querySelector('#df-88ac266b-3907-4589-af32-5f21140d3ba3 button.colab-df-convert');\n",
              "        buttonEl.style.display =\n",
              "          google.colab.kernel.accessAllowed ? 'block' : 'none';\n",
              "\n",
              "        async function convertToInteractive(key) {\n",
              "          const element = document.querySelector('#df-88ac266b-3907-4589-af32-5f21140d3ba3');\n",
              "          const dataTable =\n",
              "            await google.colab.kernel.invokeFunction('convertToInteractive',\n",
              "                                                     [key], {});\n",
              "          if (!dataTable) return;\n",
              "\n",
              "          const docLinkHtml = 'Like what you see? Visit the ' +\n",
              "            '<a target=\"_blank\" href=https://colab.research.google.com/notebooks/data_table.ipynb>data table notebook</a>'\n",
              "            + ' to learn more about interactive tables.';\n",
              "          element.innerHTML = '';\n",
              "          dataTable['output_type'] = 'display_data';\n",
              "          await google.colab.output.renderOutput(dataTable, element);\n",
              "          const docLink = document.createElement('div');\n",
              "          docLink.innerHTML = docLinkHtml;\n",
              "          element.appendChild(docLink);\n",
              "        }\n",
              "      </script>\n",
              "    </div>\n",
              "  </div>\n",
              "  "
            ]
          },
          "metadata": {},
          "execution_count": 75
        }
      ]
    },
    {
      "cell_type": "code",
      "source": [
        "# Create a new column \"HAS_DEF\" to indicate customers who have at least 1 deafult payment from PAY_1 to Pay_6\n",
        "# 0 : no default ; 1: has default\n",
        "\n",
        "def_condition = (df.PAY_1 >1) | (df.PAY_2 >1) | (df.PAY_3 >1) | (df.PAY_4 >1) | (df.PAY_5 >1) | (df.PAY_6 >1)\n",
        "df.loc[def_condition, \"HAS_DEF\"] = 1\n",
        "df.loc[df.HAS_DEF.isna(), \"HAS_DEF\"] = 0"
      ],
      "metadata": {
        "id": "sOVyE6ja6h-F"
      },
      "execution_count": 76,
      "outputs": []
    },
    {
      "cell_type": "markdown",
      "source": [
        "1. **On average, which sex group tends to have more delayed payments?**"
      ],
      "metadata": {
        "id": "8lN3HShZ6sgy"
      }
    },
    {
      "cell_type": "code",
      "source": [
        "# Define a function to plot stacked bar chart since there will be multiple stacked bars charts to plot\n",
        "\n",
        "def create_stacked_bar(column_name):\n",
        "\n",
        "    # Get the percentage of default by each group\n",
        "    default_by_group = pd.crosstab(index=df['HAS_DEF'],columns = df[column_name], normalize = 'columns')\n",
        "    \n",
        "    # Round up to 2 decimal\n",
        "    default_by_group = default_by_group.apply(lambda x: round(x,2))\n",
        "    \n",
        "    labels = default_by_group.columns\n",
        "    list1 = default_by_group.iloc[0].to_list()\n",
        "    list2 = default_by_group.iloc[1].to_list()\n",
        "    \n",
        "    list1_name = \"No default\"\n",
        "    list2_name = \"default\"\n",
        "    title = f\"Default by {column_name}\"\n",
        "    xlabel = column_name\n",
        "    ylabel = \"Default percentage\"\n",
        "    \n",
        "    fig, ax = plt.subplots(figsize=(10, 5))\n",
        "    bar_width = 0.5\n",
        "    \n",
        "    ax1 = ax.bar(labels,list1, bar_width, label = list1_name)\n",
        "    ax2 = ax.bar(labels,list2, bar_width, bottom = list1, label = list2_name)\n",
        "\n",
        "    ax.set_title(title, fontweight = \"bold\")\n",
        "    ax.set_xlabel(xlabel, fontweight = \"bold\")\n",
        "    ax.set_ylabel(ylabel, fontweight = \"bold\")\n",
        "    ax.legend(loc=\"best\")\n",
        "    \n",
        "    plt.xticks(list(range(len(labels))), labels,rotation=90)\n",
        "    plt.yticks(fontsize=9)\n",
        "\n",
        "    for r1, r2 in zip(ax1, ax2):\n",
        "        h1 = r1.get_height()\n",
        "        h2 = r2.get_height()\n",
        "        plt.text(r1.get_x() + r1.get_width() / 2., h1 / 2., f\"{h1:.0%}\", ha=\"center\", va=\"center\", color=\"white\", fontsize=9, fontweight=\"bold\")\n",
        "        plt.text(r2.get_x() + r2.get_width() / 2., h1 + h2 / 2., f\"{h2:.0%}\", ha=\"center\", va=\"center\", color=\"white\", fontsize=9, fontweight=\"bold\")\n",
        "\n",
        "    plt.show()"
      ],
      "metadata": {
        "id": "hg9k4Abx60y5"
      },
      "execution_count": 77,
      "outputs": []
    },
    {
      "cell_type": "code",
      "source": [
        "# Plot a stacked bar chart to visualize default percentage by female and male\n",
        "\n",
        "create_stacked_bar('SEX')"
      ],
      "metadata": {
        "colab": {
          "base_uri": "https://localhost:8080/",
          "height": 348
        },
        "id": "yVp35E8u6zpR",
        "outputId": "a3278cc9-4f94-4ad3-fd30-9f4bbc45e2e1"
      },
      "execution_count": 78,
      "outputs": [
        {
          "output_type": "display_data",
          "data": {
            "text/plain": [
              "<Figure size 720x360 with 1 Axes>"
            ],
            "image/png": "[encoded data removed]"
          },
          "metadata": {
            "needs_background": "light"
          }
        }
      ]
    },
    {
      "cell_type": "markdown",
      "source": [
        "**Observation - 30% male have default payment while 26% female have default payment, the difference is not significant.**\n",
        "\n"
      ],
      "metadata": {
        "id": "wUG3X65i_P4x"
      }
    },
    {
      "cell_type": "markdown",
      "source": [
        "2. **Did customers with higher education have less delayed payment?**"
      ],
      "metadata": {
        "id": "fzAxEH43_F2O"
      }
    },
    {
      "cell_type": "code",
      "source": [
        "# Plot a stacked bar chart to show default by education level\n",
        "\n",
        "create_stacked_bar('EDUCATION')"
      ],
      "metadata": {
        "colab": {
          "base_uri": "https://localhost:8080/",
          "height": 346
        },
        "id": "ZT1NGHXh_aD_",
        "outputId": "92c1cdd8-ba6f-4f1b-97b8-65d7c6abfbf9"
      },
      "execution_count": 79,
      "outputs": [
        {
          "output_type": "display_data",
          "data": {
            "text/plain": [
              "<Figure size 720x360 with 1 Axes>"
            ],
            "image/png": "[encoded data removed]"
          },
          "metadata": {
            "needs_background": "light"
          }
        }
      ]
    },
    {
      "cell_type": "markdown",
      "source": [
        "**Observation - The data indicates customers with lower education levels default more. Customers with high school and university educational level had higher default percentages than customers with grad school education did.**"
      ],
      "metadata": {
        "id": "HyuqTbz6_w4q"
      }
    },
    {
      "cell_type": "markdown",
      "source": [
        "3. **Did customers with a high education level get higher credit limits?**"
      ],
      "metadata": {
        "id": "OgOp8N8z_4w8"
      }
    },
    {
      "cell_type": "code",
      "source": [
        "# Use boxplot to visualize credit limit grouped by education level\n",
        "\n",
        "data = []\n",
        "for i in [0,1,2,3]:\n",
        "    temp = df.loc[df.EDUCATION == i, \"LIMIT_BAL\"]\n",
        "    data.append(temp)\n",
        "\n",
        "fig, ax = plt.subplots()\n",
        "ax.boxplot(data)\n",
        "ax.set_xticklabels([\"others\",\"grad school\", \"university\", \"high school\"])\n",
        "\n",
        "plt.show()"
      ],
      "metadata": {
        "colab": {
          "base_uri": "https://localhost:8080/",
          "height": 276
        },
        "id": "rcJRJ_p__Z4o",
        "outputId": "6c0eef74-fac6-4640-fd94-d0b99a182b35"
      },
      "execution_count": 80,
      "outputs": [
        {
          "output_type": "display_data",
          "data": {
            "text/plain": [
              "<Figure size 432x288 with 1 Axes>"
            ],
            "image/png": "[encoded data removed]"
          },
          "metadata": {
            "needs_background": "light"
          }
        }
      ]
    },
    {
      "cell_type": "markdown",
      "source": [
        "**Observation - From the boxplot, we can see that customers with grad school education have the highest 25% percentile,highest median,highest 75th percentile and highest maximum numbers, which proves that customers with higher education levels did get higher credit limits.**"
      ],
      "metadata": {
        "id": "dtqJJkMcACiK"
      }
    },
    {
      "cell_type": "markdown",
      "source": [
        "4. **Does marital status have anything to do with default risk? Note the credit limit includes the family's total credit.**"
      ],
      "metadata": {
        "id": "0KOt_Tp3AJFz"
      }
    },
    {
      "cell_type": "code",
      "source": [
        "# Plot a stacked bar chart to visualize default and non-default distribution by marital status \n",
        "\n",
        "create_stacked_bar('MARRIAGE')"
      ],
      "metadata": {
        "colab": {
          "base_uri": "https://localhost:8080/",
          "height": 346
        },
        "id": "EflLKY8tAI1Z",
        "outputId": "925589df-0e68-4642-8316-5bd89902bbf5"
      },
      "execution_count": 81,
      "outputs": [
        {
          "output_type": "display_data",
          "data": {
            "text/plain": [
              "<Figure size 720x360 with 1 Axes>"
            ],
            "image/png": "[encoded data removed]"
          },
          "metadata": {
            "needs_background": "light"
          }
        }
      ]
    },
    {
      "cell_type": "markdown",
      "source": [
        "**Observation - There is no difference of default risk in terms of marital status, although the 'other'marital status group had high default percentage.**"
      ],
      "metadata": {
        "id": "PBLSk68vAdoq"
      }
    },
    {
      "cell_type": "markdown",
      "source": [
        "5. **Do younger people tend to miss the payment deadline?**"
      ],
      "metadata": {
        "id": "oH4empQqBU7a"
      }
    },
    {
      "cell_type": "code",
      "source": [
        "# Segment the 'AGE' column to 6 groups\n",
        "\n",
        "bins= [21,30,40,50,60,70,80]\n",
        "labels = ['20-30','30-40','40-50','50-60','60-70','70-80']\n",
        "df['AGE_BIN'] = pd.cut(df['AGE'],bins=bins, labels=labels,right=False)\n",
        "\n",
        "# Plot a stacked bar chart to visualize default and non-default by age\n",
        "\n",
        "create_stacked_bar('AGE_BIN')"
      ],
      "metadata": {
        "colab": {
          "base_uri": "https://localhost:8080/",
          "height": 369
        },
        "id": "qDOCRsKKBgZx",
        "outputId": "438ccd2f-19d3-4301-dcbb-816a3778c918"
      },
      "execution_count": 35,
      "outputs": [
        {
          "output_type": "display_data",
          "data": {
            "text/plain": [
              "<Figure size 720x360 with 1 Axes>"
            ],
            "image/png": "[encoded data removed]"
          },
          "metadata": {
            "needs_background": "light"
          }
        }
      ]
    },
    {
      "cell_type": "markdown",
      "source": [
        "**Observation - Customers aged between 30-50 had the lowest delayed payment rate, while younger groups (20-30) and older groups (50-70) all had higher delayed payment rates. However, the delayed rate dropped slightly again in customers older than 70 years.**"
      ],
      "metadata": {
        "id": "7i0N5kgbBZUX"
      }
    },
    {
      "cell_type": "markdown",
      "source": [
        "6. **Has the repayment status changed in the 6 month from April 2005 (PAY_6) to September 2005(PAY_0)?**\n"
      ],
      "metadata": {
        "id": "SqFVCAPQBwjW"
      }
    },
    {
      "cell_type": "code",
      "source": [
        "# Subset a dataframe with the records that have default\n",
        "\n",
        "has_default = df[df['HAS_DEF']== 1]\n",
        "default_trend = has_default[['PAY_6','PAY_5','PAY_4','PAY_3','PAY_2','PAY_1']].sum(axis=0)\n",
        "\n",
        "# Draw a line chart to show the trend. The lower the number, the shorter delayed payment\n",
        "fig,ax = plt.subplots()\n",
        "ax.plot(default_trend)\n",
        "plt.xticks(['PAY_6','PAY_5','PAY_4','PAY_3','PAY_2','PAY_1'],['Apr','May','Jun','Jul','Aug','Sep'])\n",
        "\n",
        "plt.xlabel('Months',fontweight='bold')\n",
        "plt.ylabel('Total delayed months',fontweight='bold')\n",
        "plt.title('Delayed payment trend',fontweight='bold')\n",
        "\n",
        "plt.show()"
      ],
      "metadata": {
        "colab": {
          "base_uri": "https://localhost:8080/",
          "height": 295
        },
        "id": "HLTB9ByZ6mXN",
        "outputId": "32e6a685-bd84-44cb-f561-50d82c109460"
      },
      "execution_count": 82,
      "outputs": [
        {
          "output_type": "display_data",
          "data": {
            "text/plain": [
              "<Figure size 432x288 with 1 Axes>"
            ],
            "image/png": "[encoded data removed]"
          },
          "metadata": {
            "needs_background": "light"
          }
        }
      ]
    },
    {
      "cell_type": "markdown",
      "source": [
        "**Observation - There was a huge jump from May,2005 (PAY_5) to July, 2005 (PAY_3) when delayed payment increased significantly, then it peaked at August, 2005 (PAY_2), things started to get better in September, 2005 (PAY_1).**"
      ],
      "metadata": {
        "id": "L2tA-mdD6hq9"
      }
    },
    {
      "cell_type": "markdown",
      "source": [
        "7. **Why are there negative bills?**"
      ],
      "metadata": {
        "id": "QSXot8hUCYPL"
      }
    },
    {
      "cell_type": "code",
      "source": [
        "# Get statistic summary of bill statement columns\n",
        "# The min numbers are negative\n",
        "\n",
        "bill = df[['BILL_AMT1','BILL_AMT2','BILL_AMT3','BILL_AMT4','BILL_AMT5','BILL_AMT6']]\n",
        "bill.describe()"
      ],
      "metadata": {
        "colab": {
          "base_uri": "https://localhost:8080/",
          "height": 300
        },
        "id": "91MVwzAuCgLV",
        "outputId": "0ec5e63c-1560-4a14-c718-7923b537fec0"
      },
      "execution_count": 83,
      "outputs": [
        {
          "output_type": "execute_result",
          "data": {
            "text/plain": [
              "           BILL_AMT1      BILL_AMT2     BILL_AMT3      BILL_AMT4  \\\n",
              "count   30000.000000   30000.000000  3.000000e+04   30000.000000   \n",
              "mean    51223.330900   49179.075167  4.701315e+04   43262.948967   \n",
              "std     73635.860576   71173.768783  6.934939e+04   64332.856134   \n",
              "min   -165580.000000  -69777.000000 -1.572640e+05 -170000.000000   \n",
              "25%      3558.750000    2984.750000  2.666250e+03    2326.750000   \n",
              "50%     22381.500000   21200.000000  2.008850e+04   19052.000000   \n",
              "75%     67091.000000   64006.250000  6.016475e+04   54506.000000   \n",
              "max    964511.000000  983931.000000  1.664089e+06  891586.000000   \n",
              "\n",
              "           BILL_AMT5      BILL_AMT6  \n",
              "count   30000.000000   30000.000000  \n",
              "mean    40311.400967   38871.760400  \n",
              "std     60797.155770   59554.107537  \n",
              "min    -81334.000000 -339603.000000  \n",
              "25%      1763.000000    1256.000000  \n",
              "50%     18104.500000   17071.000000  \n",
              "75%     50190.500000   49198.250000  \n",
              "max    927171.000000  961664.000000  "
            ],
            "text/html": [
              "\n",
              "  <div id=\"df-a637c02d-08d8-4230-bdca-d605fa38022a\">\n",
              "    <div class=\"colab-df-container\">\n",
              "      <div>\n",
              "<style scoped>\n",
              "    .dataframe tbody tr th:only-of-type {\n",
              "        vertical-align: middle;\n",
              "    }\n",
              "\n",
              "    .dataframe tbody tr th {\n",
              "        vertical-align: top;\n",
              "    }\n",
              "\n",
              "    .dataframe thead th {\n",
              "        text-align: right;\n",
              "    }\n",
              "</style>\n",
              "<table border=\"1\" class=\"dataframe\">\n",
              "  <thead>\n",
              "    <tr style=\"text-align: right;\">\n",
              "      <th></th>\n",
              "      <th>BILL_AMT1</th>\n",
              "      <th>BILL_AMT2</th>\n",
              "      <th>BILL_AMT3</th>\n",
              "      <th>BILL_AMT4</th>\n",
              "      <th>BILL_AMT5</th>\n",
              "      <th>BILL_AMT6</th>\n",
              "    </tr>\n",
              "  </thead>\n",
              "  <tbody>\n",
              "    <tr>\n",
              "      <th>count</th>\n",
              "      <td>30000.000000</td>\n",
              "      <td>30000.000000</td>\n",
              "      <td>3.000000e+04</td>\n",
              "      <td>30000.000000</td>\n",
              "      <td>30000.000000</td>\n",
              "      <td>30000.000000</td>\n",
              "    </tr>\n",
              "    <tr>\n",
              "      <th>mean</th>\n",
              "      <td>51223.330900</td>\n",
              "      <td>49179.075167</td>\n",
              "      <td>4.701315e+04</td>\n",
              "      <td>43262.948967</td>\n",
              "      <td>40311.400967</td>\n",
              "      <td>38871.760400</td>\n",
              "    </tr>\n",
              "    <tr>\n",
              "      <th>std</th>\n",
              "      <td>73635.860576</td>\n",
              "      <td>71173.768783</td>\n",
              "      <td>6.934939e+04</td>\n",
              "      <td>64332.856134</td>\n",
              "      <td>60797.155770</td>\n",
              "      <td>59554.107537</td>\n",
              "    </tr>\n",
              "    <tr>\n",
              "      <th>min</th>\n",
              "      <td>-165580.000000</td>\n",
              "      <td>-69777.000000</td>\n",
              "      <td>-1.572640e+05</td>\n",
              "      <td>-170000.000000</td>\n",
              "      <td>-81334.000000</td>\n",
              "      <td>-339603.000000</td>\n",
              "    </tr>\n",
              "    <tr>\n",
              "      <th>25%</th>\n",
              "      <td>3558.750000</td>\n",
              "      <td>2984.750000</td>\n",
              "      <td>2.666250e+03</td>\n",
              "      <td>2326.750000</td>\n",
              "      <td>1763.000000</td>\n",
              "      <td>1256.000000</td>\n",
              "    </tr>\n",
              "    <tr>\n",
              "      <th>50%</th>\n",
              "      <td>22381.500000</td>\n",
              "      <td>21200.000000</td>\n",
              "      <td>2.008850e+04</td>\n",
              "      <td>19052.000000</td>\n",
              "      <td>18104.500000</td>\n",
              "      <td>17071.000000</td>\n",
              "    </tr>\n",
              "    <tr>\n",
              "      <th>75%</th>\n",
              "      <td>67091.000000</td>\n",
              "      <td>64006.250000</td>\n",
              "      <td>6.016475e+04</td>\n",
              "      <td>54506.000000</td>\n",
              "      <td>50190.500000</td>\n",
              "      <td>49198.250000</td>\n",
              "    </tr>\n",
              "    <tr>\n",
              "      <th>max</th>\n",
              "      <td>964511.000000</td>\n",
              "      <td>983931.000000</td>\n",
              "      <td>1.664089e+06</td>\n",
              "      <td>891586.000000</td>\n",
              "      <td>927171.000000</td>\n",
              "      <td>961664.000000</td>\n",
              "    </tr>\n",
              "  </tbody>\n",
              "</table>\n",
              "</div>\n",
              "      <button class=\"colab-df-convert\" onclick=\"convertToInteractive('df-a637c02d-08d8-4230-bdca-d605fa38022a')\"\n",
              "              title=\"Convert this dataframe to an interactive table.\"\n",
              "              style=\"display:none;\">\n",
              "        \n",
              "  <svg xmlns=\"http://www.w3.org/2000/svg\" height=\"24px\"viewBox=\"0 0 24 24\"\n",
              "       width=\"24px\">\n",
              "    <path d=\"M0 0h24v24H0V0z\" fill=\"none\"/>\n",
              "    <path d=\"M18.56 5.44l.94 2.06.94-2.06 2.06-.94-2.06-.94-.94-2.06-.94 2.06-2.06.94zm-11 1L8.5 8.5l.94-2.06 2.06-.94-2.06-.94L8.5 2.5l-.94 2.06-2.06.94zm10 10l.94 2.06.94-2.06 2.06-.94-2.06-.94-.94-2.06-.94 2.06-2.06.94z\"/><path d=\"M17.41 7.96l-1.37-1.37c-.4-.4-.92-.59-1.43-.59-.52 0-1.04.2-1.43.59L10.3 9.45l-7.72 7.72c-.78.78-.78 2.05 0 2.83L4 21.41c.39.39.9.59 1.41.59.51 0 1.02-.2 1.41-.59l7.78-7.78 2.81-2.81c.8-.78.8-2.07 0-2.86zM5.41 20L4 18.59l7.72-7.72 1.47 1.35L5.41 20z\"/>\n",
              "  </svg>\n",
              "      </button>\n",
              "      \n",
              "  <style>\n",
              "    .colab-df-container {\n",
              "      display:flex;\n",
              "      flex-wrap:wrap;\n",
              "      gap: 12px;\n",
              "    }\n",
              "\n",
              "    .colab-df-convert {\n",
              "      background-color: #E8F0FE;\n",
              "      border: none;\n",
              "      border-radius: 50%;\n",
              "      cursor: pointer;\n",
              "      display: none;\n",
              "      fill: #1967D2;\n",
              "      height: 32px;\n",
              "      padding: 0 0 0 0;\n",
              "      width: 32px;\n",
              "    }\n",
              "\n",
              "    .colab-df-convert:hover {\n",
              "      background-color: #E2EBFA;\n",
              "      box-shadow: 0px 1px 2px rgba(60, 64, 67, 0.3), 0px 1px 3px 1px rgba(60, 64, 67, 0.15);\n",
              "      fill: #174EA6;\n",
              "    }\n",
              "\n",
              "    [theme=dark] .colab-df-convert {\n",
              "      background-color: #3B4455;\n",
              "      fill: #D2E3FC;\n",
              "    }\n",
              "\n",
              "    [theme=dark] .colab-df-convert:hover {\n",
              "      background-color: #434B5C;\n",
              "      box-shadow: 0px 1px 3px 1px rgba(0, 0, 0, 0.15);\n",
              "      filter: drop-shadow(0px 1px 2px rgba(0, 0, 0, 0.3));\n",
              "      fill: #FFFFFF;\n",
              "    }\n",
              "  </style>\n",
              "\n",
              "      <script>\n",
              "        const buttonEl =\n",
              "          document.querySelector('#df-a637c02d-08d8-4230-bdca-d605fa38022a button.colab-df-convert');\n",
              "        buttonEl.style.display =\n",
              "          google.colab.kernel.accessAllowed ? 'block' : 'none';\n",
              "\n",
              "        async function convertToInteractive(key) {\n",
              "          const element = document.querySelector('#df-a637c02d-08d8-4230-bdca-d605fa38022a');\n",
              "          const dataTable =\n",
              "            await google.colab.kernel.invokeFunction('convertToInteractive',\n",
              "                                                     [key], {});\n",
              "          if (!dataTable) return;\n",
              "\n",
              "          const docLinkHtml = 'Like what you see? Visit the ' +\n",
              "            '<a target=\"_blank\" href=https://colab.research.google.com/notebooks/data_table.ipynb>data table notebook</a>'\n",
              "            + ' to learn more about interactive tables.';\n",
              "          element.innerHTML = '';\n",
              "          dataTable['output_type'] = 'display_data';\n",
              "          await google.colab.output.renderOutput(dataTable, element);\n",
              "          const docLink = document.createElement('div');\n",
              "          docLink.innerHTML = docLinkHtml;\n",
              "          element.appendChild(docLink);\n",
              "        }\n",
              "      </script>\n",
              "    </div>\n",
              "  </div>\n",
              "  "
            ]
          },
          "metadata": {},
          "execution_count": 83
        }
      ]
    },
    {
      "cell_type": "code",
      "source": [
        "# How many bills have negative amount?\n",
        "# There are 3932 bills with negative amounts, each month has 599-688 records \n",
        "\n",
        "bill_melt = pd.melt(bill, var_name = 'bill_cycle',value_name = 'amount')\n",
        "neg_bill = bill_melt[bill_melt['amount']<0]\n",
        "neg_bill.groupby('bill_cycle').count()"
      ],
      "metadata": {
        "colab": {
          "base_uri": "https://localhost:8080/",
          "height": 269
        },
        "id": "csJ0nqLCClMD",
        "outputId": "2a69ba7d-e70e-42e5-f1e4-3a798341a615"
      },
      "execution_count": 84,
      "outputs": [
        {
          "output_type": "execute_result",
          "data": {
            "text/plain": [
              "            amount\n",
              "bill_cycle        \n",
              "BILL_AMT1      590\n",
              "BILL_AMT2      669\n",
              "BILL_AMT3      655\n",
              "BILL_AMT4      675\n",
              "BILL_AMT5      655\n",
              "BILL_AMT6      688"
            ],
            "text/html": [
              "\n",
              "  <div id=\"df-1f71f7d3-3806-4bb7-9c41-5184d57c8044\">\n",
              "    <div class=\"colab-df-container\">\n",
              "      <div>\n",
              "<style scoped>\n",
              "    .dataframe tbody tr th:only-of-type {\n",
              "        vertical-align: middle;\n",
              "    }\n",
              "\n",
              "    .dataframe tbody tr th {\n",
              "        vertical-align: top;\n",
              "    }\n",
              "\n",
              "    .dataframe thead th {\n",
              "        text-align: right;\n",
              "    }\n",
              "</style>\n",
              "<table border=\"1\" class=\"dataframe\">\n",
              "  <thead>\n",
              "    <tr style=\"text-align: right;\">\n",
              "      <th></th>\n",
              "      <th>amount</th>\n",
              "    </tr>\n",
              "    <tr>\n",
              "      <th>bill_cycle</th>\n",
              "      <th></th>\n",
              "    </tr>\n",
              "  </thead>\n",
              "  <tbody>\n",
              "    <tr>\n",
              "      <th>BILL_AMT1</th>\n",
              "      <td>590</td>\n",
              "    </tr>\n",
              "    <tr>\n",
              "      <th>BILL_AMT2</th>\n",
              "      <td>669</td>\n",
              "    </tr>\n",
              "    <tr>\n",
              "      <th>BILL_AMT3</th>\n",
              "      <td>655</td>\n",
              "    </tr>\n",
              "    <tr>\n",
              "      <th>BILL_AMT4</th>\n",
              "      <td>675</td>\n",
              "    </tr>\n",
              "    <tr>\n",
              "      <th>BILL_AMT5</th>\n",
              "      <td>655</td>\n",
              "    </tr>\n",
              "    <tr>\n",
              "      <th>BILL_AMT6</th>\n",
              "      <td>688</td>\n",
              "    </tr>\n",
              "  </tbody>\n",
              "</table>\n",
              "</div>\n",
              "      <button class=\"colab-df-convert\" onclick=\"convertToInteractive('df-1f71f7d3-3806-4bb7-9c41-5184d57c8044')\"\n",
              "              title=\"Convert this dataframe to an interactive table.\"\n",
              "              style=\"display:none;\">\n",
              "        \n",
              "  <svg xmlns=\"http://www.w3.org/2000/svg\" height=\"24px\"viewBox=\"0 0 24 24\"\n",
              "       width=\"24px\">\n",
              "    <path d=\"M0 0h24v24H0V0z\" fill=\"none\"/>\n",
              "    <path d=\"M18.56 5.44l.94 2.06.94-2.06 2.06-.94-2.06-.94-.94-2.06-.94 2.06-2.06.94zm-11 1L8.5 8.5l.94-2.06 2.06-.94-2.06-.94L8.5 2.5l-.94 2.06-2.06.94zm10 10l.94 2.06.94-2.06 2.06-.94-2.06-.94-.94-2.06-.94 2.06-2.06.94z\"/><path d=\"M17.41 7.96l-1.37-1.37c-.4-.4-.92-.59-1.43-.59-.52 0-1.04.2-1.43.59L10.3 9.45l-7.72 7.72c-.78.78-.78 2.05 0 2.83L4 21.41c.39.39.9.59 1.41.59.51 0 1.02-.2 1.41-.59l7.78-7.78 2.81-2.81c.8-.78.8-2.07 0-2.86zM5.41 20L4 18.59l7.72-7.72 1.47 1.35L5.41 20z\"/>\n",
              "  </svg>\n",
              "      </button>\n",
              "      \n",
              "  <style>\n",
              "    .colab-df-container {\n",
              "      display:flex;\n",
              "      flex-wrap:wrap;\n",
              "      gap: 12px;\n",
              "    }\n",
              "\n",
              "    .colab-df-convert {\n",
              "      background-color: #E8F0FE;\n",
              "      border: none;\n",
              "      border-radius: 50%;\n",
              "      cursor: pointer;\n",
              "      display: none;\n",
              "      fill: #1967D2;\n",
              "      height: 32px;\n",
              "      padding: 0 0 0 0;\n",
              "      width: 32px;\n",
              "    }\n",
              "\n",
              "    .colab-df-convert:hover {\n",
              "      background-color: #E2EBFA;\n",
              "      box-shadow: 0px 1px 2px rgba(60, 64, 67, 0.3), 0px 1px 3px 1px rgba(60, 64, 67, 0.15);\n",
              "      fill: #174EA6;\n",
              "    }\n",
              "\n",
              "    [theme=dark] .colab-df-convert {\n",
              "      background-color: #3B4455;\n",
              "      fill: #D2E3FC;\n",
              "    }\n",
              "\n",
              "    [theme=dark] .colab-df-convert:hover {\n",
              "      background-color: #434B5C;\n",
              "      box-shadow: 0px 1px 3px 1px rgba(0, 0, 0, 0.15);\n",
              "      filter: drop-shadow(0px 1px 2px rgba(0, 0, 0, 0.3));\n",
              "      fill: #FFFFFF;\n",
              "    }\n",
              "  </style>\n",
              "\n",
              "      <script>\n",
              "        const buttonEl =\n",
              "          document.querySelector('#df-1f71f7d3-3806-4bb7-9c41-5184d57c8044 button.colab-df-convert');\n",
              "        buttonEl.style.display =\n",
              "          google.colab.kernel.accessAllowed ? 'block' : 'none';\n",
              "\n",
              "        async function convertToInteractive(key) {\n",
              "          const element = document.querySelector('#df-1f71f7d3-3806-4bb7-9c41-5184d57c8044');\n",
              "          const dataTable =\n",
              "            await google.colab.kernel.invokeFunction('convertToInteractive',\n",
              "                                                     [key], {});\n",
              "          if (!dataTable) return;\n",
              "\n",
              "          const docLinkHtml = 'Like what you see? Visit the ' +\n",
              "            '<a target=\"_blank\" href=https://colab.research.google.com/notebooks/data_table.ipynb>data table notebook</a>'\n",
              "            + ' to learn more about interactive tables.';\n",
              "          element.innerHTML = '';\n",
              "          dataTable['output_type'] = 'display_data';\n",
              "          await google.colab.output.renderOutput(dataTable, element);\n",
              "          const docLink = document.createElement('div');\n",
              "          docLink.innerHTML = docLinkHtml;\n",
              "          element.appendChild(docLink);\n",
              "        }\n",
              "      </script>\n",
              "    </div>\n",
              "  </div>\n",
              "  "
            ]
          },
          "metadata": {},
          "execution_count": 84
        }
      ]
    },
    {
      "cell_type": "markdown",
      "source": [
        "**Observation - Interestingly enough, the minimals of those 6 bill columns are negative numbers. In general, there are 599-688 bills with negative amounts each month, which is less than 2% of total 30,000 records monthly.**"
      ],
      "metadata": {
        "id": "uBxobAQNDdqE"
      }
    },
    {
      "cell_type": "markdown",
      "source": [
        "8. **Why are some bill statement amounts greater than credit limit? Could it be late payment interest?**"
      ],
      "metadata": {
        "id": "MEePKuLpECkQ"
      }
    },
    {
      "cell_type": "code",
      "source": [
        "# Is there any bill amount that is greater than credit limit?\n",
        "\n",
        "condition1 = df['BILL_AMT1'] > df['LIMIT_BAL'] \n",
        "condition2 = df['BILL_AMT2'] > df['LIMIT_BAL'] \n",
        "condition3 = df['BILL_AMT3'] > df['LIMIT_BAL'] \n",
        "condition4 = df['BILL_AMT4'] > df['LIMIT_BAL'] \n",
        "condition5 = df['BILL_AMT5'] > df['LIMIT_BAL'] \n",
        "condition6 = df['BILL_AMT6'] > df['LIMIT_BAL'] \n",
        "\n",
        "large_bill = df[condition1 | condition2 |condition3 | condition4 | condition5 | condition6]\n",
        "large_bill.shape"
      ],
      "metadata": {
        "colab": {
          "base_uri": "https://localhost:8080/"
        },
        "id": "YXMFEEb2EE4X",
        "outputId": "7eb8325e-572d-4024-9192-dac13192f978"
      },
      "execution_count": 85,
      "outputs": [
        {
          "output_type": "execute_result",
          "data": {
            "text/plain": [
              "(3931, 25)"
            ]
          },
          "metadata": {},
          "execution_count": 85
        }
      ]
    },
    {
      "cell_type": "code",
      "source": [
        "large_bill[\"HAS_DEF\"].value_counts()"
      ],
      "metadata": {
        "colab": {
          "base_uri": "https://localhost:8080/"
        },
        "id": "sYfnd8oFEJYq",
        "outputId": "f21f607e-adf6-49d4-cc1a-7c1ed628f1f2"
      },
      "execution_count": 86,
      "outputs": [
        {
          "output_type": "execute_result",
          "data": {
            "text/plain": [
              "0.0    2184\n",
              "1.0    1747\n",
              "Name: HAS_DEF, dtype: int64"
            ]
          },
          "metadata": {},
          "execution_count": 86
        }
      ]
    },
    {
      "cell_type": "markdown",
      "source": [
        "**Observation - The common sense is that the bill statement amount shouldn't exceed credit limit, however, there are 3931 customers whose bill amounts are greater than credit limit. Could the difference be late payment interest assuming these customers had delayed payment?**"
      ],
      "metadata": {
        "id": "XuDIImXREMim"
      }
    },
    {
      "cell_type": "markdown",
      "source": [
        "##**Modeling**"
      ],
      "metadata": {
        "id": "qAyNhM6wEXQx"
      }
    },
    {
      "cell_type": "markdown",
      "source": [
        " **Feature Engineering**"
      ],
      "metadata": {
        "id": "UVgzXCM6Ws8F"
      }
    },
    {
      "cell_type": "code",
      "source": [
        "'''# Bin ‘AGE’ data to 6 groups\n",
        "bins= [21,30,40,50,60,70,80]\n",
        "labels = list(range(6))\n",
        "df['AGE'] = pd.cut(df['AGE'],bins=bins, labels=labels,right=False)\n",
        "\n",
        "# Covert categorical column into integer by extracting the code of the categories\n",
        "df.AGE = df.AGE.cat.codes'''"
      ],
      "metadata": {
        "id": "WsCVgAtoHoh0",
        "colab": {
          "base_uri": "https://localhost:8080/",
          "height": 53
        },
        "outputId": "026c2fdb-850f-45e6-e4e0-df9a0a6fe8f4"
      },
      "execution_count": 21,
      "outputs": [
        {
          "output_type": "execute_result",
          "data": {
            "text/plain": [
              "\"# Bin ‘AGE’ data to 6 groups\\nbins= [21,30,40,50,60,70,80]\\nlabels = list(range(6))\\ndf['AGE'] = pd.cut(df['AGE'],bins=bins, labels=labels,right=False)\\n\\n# Covert categorical column into integer by extracting the code of the categories\\ndf.AGE = df.AGE.cat.codes\""
            ],
            "application/vnd.google.colaboratory.intrinsic+json": {
              "type": "string"
            }
          },
          "metadata": {},
          "execution_count": 21
        }
      ]
    },
    {
      "cell_type": "code",
      "source": [
        "df['SEX'] = pd.get_dummies(df['SEX'],drop_first = True)\n"
      ],
      "metadata": {
        "id": "QFb-QdrjGK_s"
      },
      "execution_count": 22,
      "outputs": []
    },
    {
      "cell_type": "markdown",
      "source": [
        "**Feature Selection**"
      ],
      "metadata": {
        "id": "0uPhnSL2WuIV"
      }
    },
    {
      "cell_type": "code",
      "source": [
        "# Define predictor variables and target variable\n",
        "X = df.drop(columns=['def_pay_nm'])\n",
        "y = df['def_pay_nm']\n",
        "\n",
        "# Save all feature names as list\n",
        "feature_cols = X.columns.tolist() \n",
        "\n",
        "# Extract numerical columns and save as a list for rescaling\n",
        "X_num = X.drop(columns=['SEX', 'EDUCATION', 'MARRIAGE', 'AGE'])\n",
        "num_cols = X_num.columns.tolist()   "
      ],
      "metadata": {
        "id": "VkTVv6cqWwVn"
      },
      "execution_count": 23,
      "outputs": []
    },
    {
      "cell_type": "markdown",
      "source": [
        "**Class Imbalance**"
      ],
      "metadata": {
        "id": "MwlGxDucRO7_"
      }
    },
    {
      "cell_type": "code",
      "source": [
        "# Check target classes balancec\n",
        "cla_bal = df['def_pay_nm'].value_counts(normalize=True)\n",
        "print(cla_bal)\n",
        "\n",
        "# Plot the classes\n",
        "cla_bal.plot(kind = 'bar')\n",
        "plt.title('Nondefault(0) and default(1) comparison',fontweight = \"bold\")\n",
        "plt.xlabel('Classes')\n",
        "plt.ylabel('Percentage')\n",
        "plt.show()"
      ],
      "metadata": {
        "id": "xLBSJQbjHvCn",
        "colab": {
          "base_uri": "https://localhost:8080/",
          "height": 344
        },
        "outputId": "479336fe-8cde-4f1f-d882-723a86a7771d"
      },
      "execution_count": 24,
      "outputs": [
        {
          "output_type": "stream",
          "name": "stdout",
          "text": [
            "0    0.7788\n",
            "1    0.2212\n",
            "Name: def_pay_nm, dtype: float64\n"
          ]
        },
        {
          "output_type": "display_data",
          "data": {
            "text/plain": [
              "<Figure size 432x288 with 1 Axes>"
            ],
            "image/png": "[encoded data removed]"
          },
          "metadata": {
            "needs_background": "light"
          }
        }
      ]
    },
    {
      "cell_type": "markdown",
      "source": [
        "**Observation - With typical default classification problems, we expect imbalanced classes as we know most people will not default. This dataset is also imbalanced, with 78% non-default vs. 22% default.**"
      ],
      "metadata": {
        "id": "5_hd5nvEIML8"
      }
    },
    {
      "cell_type": "markdown",
      "source": [
        "**Split Training and Test Data**"
      ],
      "metadata": {
        "id": "woVJ9t0gIROa"
      }
    },
    {
      "cell_type": "code",
      "source": [
        "# Define function to split data with and without SMOTE \n",
        "\n",
        "def data_split(X, y, imbalance = False):\n",
        "    # split data \n",
        "    X_train, X_test, y_train, y_test = train_test_split(X, y, test_size=0.3,shuffle=True, stratify=y, random_state=42)\n",
        "    \n",
        "    if imbalance:\n",
        "        # use SMOTE to over sample data\n",
        "        from imblearn.over_sampling import SMOTE\n",
        "        sm = SMOTE(random_state = 42)\n",
        "        X_train, y_train = sm.fit_resample(X_train, y_train.ravel())   #.ravel() functions returns contiguous flattened array(1D array with all the input-array elements and with the same type as it\n",
        "    \n",
        "    return X_train, X_test, y_train, y_test\n",
        "#"
      ],
      "metadata": {
        "id": "5pS-_-ZwS9dZ"
      },
      "execution_count": 25,
      "outputs": []
    },
    {
      "cell_type": "markdown",
      "source": [
        "**Rescale Features**\n"
      ],
      "metadata": {
        "id": "3DGcmbxUTF-R"
      }
    },
    {
      "cell_type": "code",
      "source": [
        "# Define function to rescale training data using StandardScaler\n",
        "\n",
        "def standard_scaler(X_train, X_test, numerical_cols):\n",
        "    \n",
        "    # Make copies of dataset\n",
        "    X_train_std = X_train.copy()\n",
        "    X_test_std = X_test.copy()\n",
        "    \n",
        "    # Apply standardization on numerical features only\n",
        "    for i in numerical_cols:\n",
        "        scl = StandardScaler().fit(X_train_std[[i]])     # fit on training data columns\n",
        "        X_train_std[i] = scl.transform(X_train_std[[i]]) # transform the training data columns\n",
        "        X_test_std[i] = scl.transform(X_test_std[[i]])   # transform the testing data columns\n",
        "    \n",
        "    return X_train_std,X_test_std"
      ],
      "metadata": {
        "id": "yVS3S_fPTHSu"
      },
      "execution_count": 26,
      "outputs": []
    },
    {
      "cell_type": "markdown",
      "metadata": {
        "id": "Kry3yx1AIe1T"
      },
      "source": [
        "##**Classification Predictive Modeling**"
      ]
    },
    {
      "cell_type": "markdown",
      "metadata": {
        "id": "QePCBtNOTKAU"
      },
      "source": [
        "**Logistic Regression**\n",
        "\n",
        "* **Rescaling the features variables then run Logistic Regression with and without SMOTE sampling to compare ROC_AUC scores.**\n",
        "\n",
        "\n"
      ]
    },
    {
      "cell_type": "code",
      "execution_count": 27,
      "metadata": {
        "colab": {
          "base_uri": "https://localhost:8080/",
          "height": 112
        },
        "id": "Xh0j8prgTTEq",
        "outputId": "2891cf69-3662-4aba-a703-4c134fa8dfbc"
      },
      "outputs": [
        {
          "output_type": "execute_result",
          "data": {
            "text/plain": [
              "                 Model          SMOTE  ROC_AUC Score\n",
              "0  Logistic Regression  Without SMOTE       0.725697\n",
              "1  Logistic Regression     With SMOTE       0.790245"
            ],
            "text/html": [
              "\n",
              "  <div id=\"df-95f0b843-8c35-493b-9f10-d3d3497e6b6a\">\n",
              "    <div class=\"colab-df-container\">\n",
              "      <div>\n",
              "<style scoped>\n",
              "    .dataframe tbody tr th:only-of-type {\n",
              "        vertical-align: middle;\n",
              "    }\n",
              "\n",
              "    .dataframe tbody tr th {\n",
              "        vertical-align: top;\n",
              "    }\n",
              "\n",
              "    .dataframe thead th {\n",
              "        text-align: right;\n",
              "    }\n",
              "</style>\n",
              "<table border=\"1\" class=\"dataframe\">\n",
              "  <thead>\n",
              "    <tr style=\"text-align: right;\">\n",
              "      <th></th>\n",
              "      <th>Model</th>\n",
              "      <th>SMOTE</th>\n",
              "      <th>ROC_AUC Score</th>\n",
              "    </tr>\n",
              "  </thead>\n",
              "  <tbody>\n",
              "    <tr>\n",
              "      <th>0</th>\n",
              "      <td>Logistic Regression</td>\n",
              "      <td>Without SMOTE</td>\n",
              "      <td>0.725697</td>\n",
              "    </tr>\n",
              "    <tr>\n",
              "      <th>1</th>\n",
              "      <td>Logistic Regression</td>\n",
              "      <td>With SMOTE</td>\n",
              "      <td>0.790245</td>\n",
              "    </tr>\n",
              "  </tbody>\n",
              "</table>\n",
              "</div>\n",
              "      <button class=\"colab-df-convert\" onclick=\"convertToInteractive('df-95f0b843-8c35-493b-9f10-d3d3497e6b6a')\"\n",
              "              title=\"Convert this dataframe to an interactive table.\"\n",
              "              style=\"display:none;\">\n",
              "        \n",
              "  <svg xmlns=\"http://www.w3.org/2000/svg\" height=\"24px\"viewBox=\"0 0 24 24\"\n",
              "       width=\"24px\">\n",
              "    <path d=\"M0 0h24v24H0V0z\" fill=\"none\"/>\n",
              "    <path d=\"M18.56 5.44l.94 2.06.94-2.06 2.06-.94-2.06-.94-.94-2.06-.94 2.06-2.06.94zm-11 1L8.5 8.5l.94-2.06 2.06-.94-2.06-.94L8.5 2.5l-.94 2.06-2.06.94zm10 10l.94 2.06.94-2.06 2.06-.94-2.06-.94-.94-2.06-.94 2.06-2.06.94z\"/><path d=\"M17.41 7.96l-1.37-1.37c-.4-.4-.92-.59-1.43-.59-.52 0-1.04.2-1.43.59L10.3 9.45l-7.72 7.72c-.78.78-.78 2.05 0 2.83L4 21.41c.39.39.9.59 1.41.59.51 0 1.02-.2 1.41-.59l7.78-7.78 2.81-2.81c.8-.78.8-2.07 0-2.86zM5.41 20L4 18.59l7.72-7.72 1.47 1.35L5.41 20z\"/>\n",
              "  </svg>\n",
              "      </button>\n",
              "      \n",
              "  <style>\n",
              "    .colab-df-container {\n",
              "      display:flex;\n",
              "      flex-wrap:wrap;\n",
              "      gap: 12px;\n",
              "    }\n",
              "\n",
              "    .colab-df-convert {\n",
              "      background-color: #E8F0FE;\n",
              "      border: none;\n",
              "      border-radius: 50%;\n",
              "      cursor: pointer;\n",
              "      display: none;\n",
              "      fill: #1967D2;\n",
              "      height: 32px;\n",
              "      padding: 0 0 0 0;\n",
              "      width: 32px;\n",
              "    }\n",
              "\n",
              "    .colab-df-convert:hover {\n",
              "      background-color: #E2EBFA;\n",
              "      box-shadow: 0px 1px 2px rgba(60, 64, 67, 0.3), 0px 1px 3px 1px rgba(60, 64, 67, 0.15);\n",
              "      fill: #174EA6;\n",
              "    }\n",
              "\n",
              "    [theme=dark] .colab-df-convert {\n",
              "      background-color: #3B4455;\n",
              "      fill: #D2E3FC;\n",
              "    }\n",
              "\n",
              "    [theme=dark] .colab-df-convert:hover {\n",
              "      background-color: #434B5C;\n",
              "      box-shadow: 0px 1px 3px 1px rgba(0, 0, 0, 0.15);\n",
              "      filter: drop-shadow(0px 1px 2px rgba(0, 0, 0, 0.3));\n",
              "      fill: #FFFFFF;\n",
              "    }\n",
              "  </style>\n",
              "\n",
              "      <script>\n",
              "        const buttonEl =\n",
              "          document.querySelector('#df-95f0b843-8c35-493b-9f10-d3d3497e6b6a button.colab-df-convert');\n",
              "        buttonEl.style.display =\n",
              "          google.colab.kernel.accessAllowed ? 'block' : 'none';\n",
              "\n",
              "        async function convertToInteractive(key) {\n",
              "          const element = document.querySelector('#df-95f0b843-8c35-493b-9f10-d3d3497e6b6a');\n",
              "          const dataTable =\n",
              "            await google.colab.kernel.invokeFunction('convertToInteractive',\n",
              "                                                     [key], {});\n",
              "          if (!dataTable) return;\n",
              "\n",
              "          const docLinkHtml = 'Like what you see? Visit the ' +\n",
              "            '<a target=\"_blank\" href=https://colab.research.google.com/notebooks/data_table.ipynb>data table notebook</a>'\n",
              "            + ' to learn more about interactive tables.';\n",
              "          element.innerHTML = '';\n",
              "          dataTable['output_type'] = 'display_data';\n",
              "          await google.colab.output.renderOutput(dataTable, element);\n",
              "          const docLink = document.createElement('div');\n",
              "          docLink.innerHTML = docLinkHtml;\n",
              "          element.appendChild(docLink);\n",
              "        }\n",
              "      </script>\n",
              "    </div>\n",
              "  </div>\n",
              "  "
            ]
          },
          "metadata": {},
          "execution_count": 27
        }
      ],
      "source": [
        "def run_logistic_regression(imbalance=False):\n",
        "    # Split data  \n",
        "    X_train, X_test, y_train, y_test = data_split(X, y, imbalance = imbalance)\n",
        "\n",
        "    # Rescale data\n",
        "    X_train_std, X_test_std = standard_scaler(X_train, X_test, numerical_cols = num_cols)\n",
        "    \n",
        "    # Instantiate model\n",
        "    clf_lr = LogisticRegression(random_state=42)\n",
        "    \n",
        "    # Fit the model\n",
        "    clf_lr.fit(X_train_std, y_train)\n",
        "\n",
        "    # Use model's default parameters to get cross validation score\n",
        "    scores = cross_val_score(clf_lr, X_train_std, y_train, scoring =\"roc_auc\", cv = 5)\n",
        "    roc_auc_lr = np.mean(scores)\n",
        "    \n",
        "    if imbalance:\n",
        "        return \"Logistic Regression\", \"With SMOTE\", roc_auc_lr\n",
        "    else:\n",
        "        return \"Logistic Regression\", \"Without SMOTE\", roc_auc_lr\n",
        "\n",
        "model_result = []\n",
        "model_result.append(run_logistic_regression())\n",
        "model_result.append(run_logistic_regression(imbalance=True))\n",
        "\n",
        "pd.DataFrame(model_result, columns = [\"Model\", \"SMOTE\", \"ROC_AUC Score\"])"
      ]
    },
    {
      "cell_type": "markdown",
      "metadata": {
        "id": "UyoB4SwnIyw9"
      },
      "source": [
        "**Since SMOTE sampling yields a much better ROC_AUC score on training data, we will use SMOTE while tuning the model.**"
      ]
    },
    {
      "cell_type": "markdown",
      "metadata": {
        "id": "ZW8uU9kpI3Yx"
      },
      "source": [
        "**Tune Parameters of Logistic Regression**"
      ]
    },
    {
      "cell_type": "code",
      "execution_count": 28,
      "metadata": {
        "colab": {
          "base_uri": "https://localhost:8080/"
        },
        "id": "K5JflqEOUd92",
        "outputId": "1bf6b11d-d6c6-42cc-85e8-621e2d6fe39f"
      },
      "outputs": [
        {
          "output_type": "stream",
          "name": "stdout",
          "text": [
            "{'C': 2.3946339367881464, 'penalty': 'l2'}\n"
          ]
        }
      ],
      "source": [
        "# Randomized search for the best C parameter\n",
        "\n",
        "from sklearn.model_selection import RandomizedSearchCV\n",
        "from scipy.stats import uniform\n",
        "\n",
        "# Split data with SMOTE \n",
        "X_train, X_test, y_train, y_test = data_split(X, y, imbalance = True) \n",
        "\n",
        "# Rescale data\n",
        "X_train_std, X_test_std = standard_scaler(X_train, X_test, numerical_cols = num_cols)\n",
        "\n",
        "logistic = LogisticRegression(solver='saga', tol=1e-2, max_iter=200,random_state=42)\n",
        "distributions = dict(C=uniform(loc=0, scale=4), penalty=['l2', 'l1'])\n",
        "clf = RandomizedSearchCV(logistic, distributions, random_state=42)\n",
        "\n",
        "lr_best= clf.fit(X_train_std, y_train)   \n",
        "\n",
        "print(lr_best.best_params_)"
      ]
    },
    {
      "cell_type": "code",
      "execution_count": 29,
      "metadata": {
        "colab": {
          "base_uri": "https://localhost:8080/"
        },
        "id": "0fLo1wD4VHHE",
        "outputId": "a0eab86b-f76b-483e-e776-953bda24b84c"
      },
      "outputs": [
        {
          "output_type": "stream",
          "name": "stdout",
          "text": [
            "ROC_AUC score after tuning parameters:0.783\n"
          ]
        }
      ],
      "source": [
        "# Get ROC_AUC score of tuned model on training data\n",
        "\n",
        "scores_tuned = cross_val_score(lr_best, X_train_std, y_train, scoring = \"roc_auc\", cv = 5)\n",
        "roc_auc_lr_best = np.mean(scores_tuned)\n",
        "\n",
        "print(f'ROC_AUC score after tuning parameters:{roc_auc_lr_best:.3f}')"
      ]
    },
    {
      "cell_type": "markdown",
      "metadata": {
        "id": "dObQ13xdJGSY"
      },
      "source": [
        "**Observation - After fine-tuning parameter C, Logistic Regression model got ROC_AUC training score as 0.792, slightly decreased from original score 0.797. This could mean model is less overfitting the training data.**"
      ]
    },
    {
      "cell_type": "markdown",
      "metadata": {
        "id": "8eSc7nQjVxhh"
      },
      "source": [
        "**Logistic Regression Model Evaluation**"
      ]
    },
    {
      "cell_type": "markdown",
      "metadata": {
        "id": "lsM8QxBXVy4C"
      },
      "source": [
        "**Precision_Recall and F1 Score**"
      ]
    },
    {
      "cell_type": "code",
      "execution_count": 30,
      "metadata": {
        "id": "lkZVLh8iV1Fk"
      },
      "outputs": [],
      "source": [
        "# Define a function to compute Precision, Recall and F1 score\n",
        "\n",
        "def get_pre_rec_f1(model,X_test,y_test):\n",
        "    y_pred = model.predict(X_test)\n",
        "    tn, fp, fn, tp = confusion_matrix(y_test, y_pred).ravel()\n",
        "    \n",
        "    precision = tp / (tp + fp)\n",
        "    recall = tp / (tp + fn)\n",
        "    F1 = 2 * (precision * recall) / (precision + recall)\n",
        "    \n",
        "    print(f'Precision:{precision:.3f}\\nRecall:{recall:.3f}\\nF1 score:{F1:.3f}')"
      ]
    },
    {
      "cell_type": "code",
      "execution_count": 31,
      "metadata": {
        "colab": {
          "base_uri": "https://localhost:8080/"
        },
        "id": "BOJvmcsuV4UD",
        "outputId": "ad42aceb-dda8-4ceb-98a9-d0e29678536d"
      },
      "outputs": [
        {
          "output_type": "stream",
          "name": "stdout",
          "text": [
            "Logistic Regression model on test data:\n",
            "Precision:0.390\n",
            "Recall:0.597\n",
            "F1 score:0.472\n"
          ]
        }
      ],
      "source": [
        "# Calculate precision and recall of Logistic Regression model\n",
        "\n",
        "print('Logistic Regression model on test data:')\n",
        "get_pre_rec_f1(lr_best, X_test_std, y_test)"
      ]
    },
    {
      "cell_type": "markdown",
      "metadata": {
        "id": "v9WgeeH1JVca"
      },
      "source": [
        "**Model Performance:**\n",
        "\n",
        "The business nature of credit card default analysis requires model to have a high recall. Logstic Regression model has a recall as 0.567."
      ]
    },
    {
      "cell_type": "markdown",
      "metadata": {
        "id": "opjxU_uqV017"
      },
      "source": [
        "**Random Forest**"
      ]
    },
    {
      "cell_type": "markdown",
      "metadata": {
        "id": "o__CbRowJfKx"
      },
      "source": [
        "Tree based model does not need feature to be rescaled, so we will skip rescaling step.\n",
        "\n"
      ]
    },
    {
      "cell_type": "code",
      "execution_count": 32,
      "metadata": {
        "colab": {
          "base_uri": "https://localhost:8080/",
          "height": 112
        },
        "id": "NkItdCeBWGuS",
        "outputId": "fd3dd7fd-b4b5-4c0b-f1d7-2dec6afe9246"
      },
      "outputs": [
        {
          "output_type": "execute_result",
          "data": {
            "text/plain": [
              "           Model          SMOTE  ROC_AUC Score\n",
              "0  Random Forest  Without SMOTE       0.766411\n",
              "1  Random Forest     With SMOTE       0.919830"
            ],
            "text/html": [
              "\n",
              "  <div id=\"df-31528683-ae22-4412-b45c-8d11304b45a5\">\n",
              "    <div class=\"colab-df-container\">\n",
              "      <div>\n",
              "<style scoped>\n",
              "    .dataframe tbody tr th:only-of-type {\n",
              "        vertical-align: middle;\n",
              "    }\n",
              "\n",
              "    .dataframe tbody tr th {\n",
              "        vertical-align: top;\n",
              "    }\n",
              "\n",
              "    .dataframe thead th {\n",
              "        text-align: right;\n",
              "    }\n",
              "</style>\n",
              "<table border=\"1\" class=\"dataframe\">\n",
              "  <thead>\n",
              "    <tr style=\"text-align: right;\">\n",
              "      <th></th>\n",
              "      <th>Model</th>\n",
              "      <th>SMOTE</th>\n",
              "      <th>ROC_AUC Score</th>\n",
              "    </tr>\n",
              "  </thead>\n",
              "  <tbody>\n",
              "    <tr>\n",
              "      <th>0</th>\n",
              "      <td>Random Forest</td>\n",
              "      <td>Without SMOTE</td>\n",
              "      <td>0.766411</td>\n",
              "    </tr>\n",
              "    <tr>\n",
              "      <th>1</th>\n",
              "      <td>Random Forest</td>\n",
              "      <td>With SMOTE</td>\n",
              "      <td>0.919830</td>\n",
              "    </tr>\n",
              "  </tbody>\n",
              "</table>\n",
              "</div>\n",
              "      <button class=\"colab-df-convert\" onclick=\"convertToInteractive('df-31528683-ae22-4412-b45c-8d11304b45a5')\"\n",
              "              title=\"Convert this dataframe to an interactive table.\"\n",
              "              style=\"display:none;\">\n",
              "        \n",
              "  <svg xmlns=\"http://www.w3.org/2000/svg\" height=\"24px\"viewBox=\"0 0 24 24\"\n",
              "       width=\"24px\">\n",
              "    <path d=\"M0 0h24v24H0V0z\" fill=\"none\"/>\n",
              "    <path d=\"M18.56 5.44l.94 2.06.94-2.06 2.06-.94-2.06-.94-.94-2.06-.94 2.06-2.06.94zm-11 1L8.5 8.5l.94-2.06 2.06-.94-2.06-.94L8.5 2.5l-.94 2.06-2.06.94zm10 10l.94 2.06.94-2.06 2.06-.94-2.06-.94-.94-2.06-.94 2.06-2.06.94z\"/><path d=\"M17.41 7.96l-1.37-1.37c-.4-.4-.92-.59-1.43-.59-.52 0-1.04.2-1.43.59L10.3 9.45l-7.72 7.72c-.78.78-.78 2.05 0 2.83L4 21.41c.39.39.9.59 1.41.59.51 0 1.02-.2 1.41-.59l7.78-7.78 2.81-2.81c.8-.78.8-2.07 0-2.86zM5.41 20L4 18.59l7.72-7.72 1.47 1.35L5.41 20z\"/>\n",
              "  </svg>\n",
              "      </button>\n",
              "      \n",
              "  <style>\n",
              "    .colab-df-container {\n",
              "      display:flex;\n",
              "      flex-wrap:wrap;\n",
              "      gap: 12px;\n",
              "    }\n",
              "\n",
              "    .colab-df-convert {\n",
              "      background-color: #E8F0FE;\n",
              "      border: none;\n",
              "      border-radius: 50%;\n",
              "      cursor: pointer;\n",
              "      display: none;\n",
              "      fill: #1967D2;\n",
              "      height: 32px;\n",
              "      padding: 0 0 0 0;\n",
              "      width: 32px;\n",
              "    }\n",
              "\n",
              "    .colab-df-convert:hover {\n",
              "      background-color: #E2EBFA;\n",
              "      box-shadow: 0px 1px 2px rgba(60, 64, 67, 0.3), 0px 1px 3px 1px rgba(60, 64, 67, 0.15);\n",
              "      fill: #174EA6;\n",
              "    }\n",
              "\n",
              "    [theme=dark] .colab-df-convert {\n",
              "      background-color: #3B4455;\n",
              "      fill: #D2E3FC;\n",
              "    }\n",
              "\n",
              "    [theme=dark] .colab-df-convert:hover {\n",
              "      background-color: #434B5C;\n",
              "      box-shadow: 0px 1px 3px 1px rgba(0, 0, 0, 0.15);\n",
              "      filter: drop-shadow(0px 1px 2px rgba(0, 0, 0, 0.3));\n",
              "      fill: #FFFFFF;\n",
              "    }\n",
              "  </style>\n",
              "\n",
              "      <script>\n",
              "        const buttonEl =\n",
              "          document.querySelector('#df-31528683-ae22-4412-b45c-8d11304b45a5 button.colab-df-convert');\n",
              "        buttonEl.style.display =\n",
              "          google.colab.kernel.accessAllowed ? 'block' : 'none';\n",
              "\n",
              "        async function convertToInteractive(key) {\n",
              "          const element = document.querySelector('#df-31528683-ae22-4412-b45c-8d11304b45a5');\n",
              "          const dataTable =\n",
              "            await google.colab.kernel.invokeFunction('convertToInteractive',\n",
              "                                                     [key], {});\n",
              "          if (!dataTable) return;\n",
              "\n",
              "          const docLinkHtml = 'Like what you see? Visit the ' +\n",
              "            '<a target=\"_blank\" href=https://colab.research.google.com/notebooks/data_table.ipynb>data table notebook</a>'\n",
              "            + ' to learn more about interactive tables.';\n",
              "          element.innerHTML = '';\n",
              "          dataTable['output_type'] = 'display_data';\n",
              "          await google.colab.output.renderOutput(dataTable, element);\n",
              "          const docLink = document.createElement('div');\n",
              "          docLink.innerHTML = docLinkHtml;\n",
              "          element.appendChild(docLink);\n",
              "        }\n",
              "      </script>\n",
              "    </div>\n",
              "  </div>\n",
              "  "
            ]
          },
          "metadata": {},
          "execution_count": 32
        }
      ],
      "source": [
        "def run_random_forest(imbalance=False):\n",
        "    # Split data  \n",
        "    X_train, X_test, y_train, y_test = data_split(X, y, imbalance = imbalance)\n",
        "    \n",
        "    # Instantiate model\n",
        "    clf_rf = RandomForestClassifier()\n",
        "   \n",
        "    # Fit the model\n",
        "    clf_rf.fit(X_train, y_train)\n",
        "\n",
        "    # Use model's default parameters to get cross validation score\n",
        "    scores = cross_val_score(clf_rf, X_train, y_train, scoring =\"roc_auc\", cv = 5)\n",
        "    roc_auc_rf = np.mean(scores)\n",
        "    \n",
        "    if imbalance:\n",
        "        return \"Random Forest\", \"With SMOTE\", roc_auc_rf\n",
        "    else:\n",
        "        return \"Random Forest\", \"Without SMOTE\", roc_auc_rf\n",
        "\n",
        "model_result = []\n",
        "model_result.append(run_random_forest())\n",
        "model_result.append(run_random_forest(imbalance=True))\n",
        "\n",
        "pd.DataFrame(model_result, columns = [\"Model\", \"SMOTE\", \"ROC_AUC Score\"])"
      ]
    },
    {
      "cell_type": "markdown",
      "metadata": {
        "id": "Tg6S1GLyJrNH"
      },
      "source": [
        "**Again, SMOTE sampling has a better performance. With the default parameters, Random Forest model generated ROC-AUC score 0.920 on training data, which is better than Logistic Regression model. Next, we will try to fine tune the hyperparameters with SMOTE sampling.**"
      ]
    },
    {
      "cell_type": "markdown",
      "metadata": {
        "id": "K_Cu0wBDWLzh"
      },
      "source": [
        "**Tune Parameters of Random Forest**"
      ]
    },
    {
      "cell_type": "code",
      "execution_count": 33,
      "metadata": {
        "id": "B_Bo9yqaWMlX"
      },
      "outputs": [],
      "source": [
        "# Split data with SMOTE\n",
        "X_train_sm, X_test, y_train_sm, y_test = data_split(X, y, imbalance = True)"
      ]
    },
    {
      "cell_type": "code",
      "execution_count": 34,
      "metadata": {
        "colab": {
          "base_uri": "https://localhost:8080/"
        },
        "id": "XNCnHs6CWT8B",
        "outputId": "88c6f303-0626-4ac0-e12a-d691999110a2"
      },
      "outputs": [
        {
          "output_type": "stream",
          "name": "stdout",
          "text": [
            "Fitting 3 folds for each of 81 candidates, totalling 243 fits\n"
          ]
        },
        {
          "output_type": "execute_result",
          "data": {
            "text/plain": [
              "{'max_depth': 110,\n",
              " 'min_samples_leaf': 3,\n",
              " 'min_samples_split': 8,\n",
              " 'n_estimators': 300}"
            ]
          },
          "metadata": {},
          "execution_count": 34
        }
      ],
      "source": [
        "# Create parameter grid  \n",
        "param_grid = {\n",
        "    'max_depth': [60, 90, 110],\n",
        "    'min_samples_leaf': [3, 4, 5],\n",
        "    'min_samples_split': [8, 10, 12],\n",
        "    'n_estimators': [100, 200, 300]\n",
        "}\n",
        "\n",
        "# Instantiate the model\n",
        "clf_rf = RandomForestClassifier()\n",
        "\n",
        "# Instantiate grid search model\n",
        "grid_search = GridSearchCV(estimator = clf_rf, param_grid = param_grid,    \n",
        "                          cv = 3, n_jobs = -1, verbose = 1)\n",
        "\n",
        "# Fit grid search to the data\n",
        "grid_search.fit(X_train_sm, y_train_sm)\n",
        "grid_search.best_params_"
      ]
    },
    {
      "cell_type": "code",
      "execution_count": 35,
      "metadata": {
        "colab": {
          "base_uri": "https://localhost:8080/"
        },
        "id": "NdhMWjAdebPw",
        "outputId": "d5630bd4-354d-4994-88f1-429ead181b86"
      },
      "outputs": [
        {
          "output_type": "stream",
          "name": "stdout",
          "text": [
            "ROC_AUC training score after tuning for Random Forest: 0.909\n"
          ]
        }
      ],
      "source": [
        "# Use the best parameters to fit the model\n",
        "\n",
        "rf_best = RandomForestClassifier(**grid_search.best_params_)   \n",
        "rf_best.fit(X_train_sm,y_train_sm)\n",
        "\n",
        "scores_best = cross_val_score(rf_best, X_train_sm, y_train_sm, scoring =\"roc_auc\", cv = 5)\n",
        "roc_auc_best = np.mean(scores_best)\n",
        "\n",
        "print(f'ROC_AUC training score after tuning for Random Forest: {roc_auc_best:.3f}')"
      ]
    },
    {
      "cell_type": "markdown",
      "metadata": {
        "id": "Uzh6RiT5BXcu"
      },
      "source": [
        "**Observation - After tuning parameters, Random Forest model's ROC-AUC score decreased slightly to 0.910.**\n",
        "\n"
      ]
    },
    {
      "cell_type": "markdown",
      "metadata": {
        "id": "r7bLihciesMZ"
      },
      "source": [
        "**Random Forest Model Evaluation**\n",
        "\n",
        "**Precision_Recall and F1 Score**"
      ]
    },
    {
      "cell_type": "code",
      "execution_count": 36,
      "metadata": {
        "colab": {
          "base_uri": "https://localhost:8080/"
        },
        "id": "ENk8_t8Kevx5",
        "outputId": "9dae03f2-a4de-4208-b35f-2c61fb868ad1"
      },
      "outputs": [
        {
          "output_type": "stream",
          "name": "stdout",
          "text": [
            "Random Forest model on test data:\n",
            "Precision:0.523\n",
            "Recall:0.507\n",
            "F1 score:0.515\n"
          ]
        }
      ],
      "source": [
        "# Compute precision, recall and F1 score of Random Forest model on test data\n",
        "\n",
        "print('Random Forest model on test data:')\n",
        "get_pre_rec_f1(rf_best, X_test, y_test)"
      ]
    },
    {
      "cell_type": "markdown",
      "metadata": {
        "id": "SvolOgW3KAW1"
      },
      "source": [
        "**Model Performance:**\n",
        "\n",
        "Random Forest has recall rate as 0.503 and F1 score as 0.513. \n"
      ]
    },
    {
      "cell_type": "markdown",
      "metadata": {
        "id": "VZ35TSLBfLTR"
      },
      "source": [
        "**XGBoost**\n"
      ]
    },
    {
      "cell_type": "code",
      "execution_count": 37,
      "metadata": {
        "colab": {
          "base_uri": "https://localhost:8080/",
          "height": 112
        },
        "id": "qjV-RfNffNLw",
        "outputId": "e97ee361-ee90-4a02-ab03-297171b76d82"
      },
      "outputs": [
        {
          "output_type": "execute_result",
          "data": {
            "text/plain": [
              "     Model          SMOTE  ROC_AUC Score\n",
              "0  XGBoost  Without SMOTE       0.782346\n",
              "1  XGBoost     With SMOTE       0.855784"
            ],
            "text/html": [
              "\n",
              "  <div id=\"df-e254d021-c63c-4496-ba7d-b4e168f0d80d\">\n",
              "    <div class=\"colab-df-container\">\n",
              "      <div>\n",
              "<style scoped>\n",
              "    .dataframe tbody tr th:only-of-type {\n",
              "        vertical-align: middle;\n",
              "    }\n",
              "\n",
              "    .dataframe tbody tr th {\n",
              "        vertical-align: top;\n",
              "    }\n",
              "\n",
              "    .dataframe thead th {\n",
              "        text-align: right;\n",
              "    }\n",
              "</style>\n",
              "<table border=\"1\" class=\"dataframe\">\n",
              "  <thead>\n",
              "    <tr style=\"text-align: right;\">\n",
              "      <th></th>\n",
              "      <th>Model</th>\n",
              "      <th>SMOTE</th>\n",
              "      <th>ROC_AUC Score</th>\n",
              "    </tr>\n",
              "  </thead>\n",
              "  <tbody>\n",
              "    <tr>\n",
              "      <th>0</th>\n",
              "      <td>XGBoost</td>\n",
              "      <td>Without SMOTE</td>\n",
              "      <td>0.782346</td>\n",
              "    </tr>\n",
              "    <tr>\n",
              "      <th>1</th>\n",
              "      <td>XGBoost</td>\n",
              "      <td>With SMOTE</td>\n",
              "      <td>0.855784</td>\n",
              "    </tr>\n",
              "  </tbody>\n",
              "</table>\n",
              "</div>\n",
              "      <button class=\"colab-df-convert\" onclick=\"convertToInteractive('df-e254d021-c63c-4496-ba7d-b4e168f0d80d')\"\n",
              "              title=\"Convert this dataframe to an interactive table.\"\n",
              "              style=\"display:none;\">\n",
              "        \n",
              "  <svg xmlns=\"http://www.w3.org/2000/svg\" height=\"24px\"viewBox=\"0 0 24 24\"\n",
              "       width=\"24px\">\n",
              "    <path d=\"M0 0h24v24H0V0z\" fill=\"none\"/>\n",
              "    <path d=\"M18.56 5.44l.94 2.06.94-2.06 2.06-.94-2.06-.94-.94-2.06-.94 2.06-2.06.94zm-11 1L8.5 8.5l.94-2.06 2.06-.94-2.06-.94L8.5 2.5l-.94 2.06-2.06.94zm10 10l.94 2.06.94-2.06 2.06-.94-2.06-.94-.94-2.06-.94 2.06-2.06.94z\"/><path d=\"M17.41 7.96l-1.37-1.37c-.4-.4-.92-.59-1.43-.59-.52 0-1.04.2-1.43.59L10.3 9.45l-7.72 7.72c-.78.78-.78 2.05 0 2.83L4 21.41c.39.39.9.59 1.41.59.51 0 1.02-.2 1.41-.59l7.78-7.78 2.81-2.81c.8-.78.8-2.07 0-2.86zM5.41 20L4 18.59l7.72-7.72 1.47 1.35L5.41 20z\"/>\n",
              "  </svg>\n",
              "      </button>\n",
              "      \n",
              "  <style>\n",
              "    .colab-df-container {\n",
              "      display:flex;\n",
              "      flex-wrap:wrap;\n",
              "      gap: 12px;\n",
              "    }\n",
              "\n",
              "    .colab-df-convert {\n",
              "      background-color: #E8F0FE;\n",
              "      border: none;\n",
              "      border-radius: 50%;\n",
              "      cursor: pointer;\n",
              "      display: none;\n",
              "      fill: #1967D2;\n",
              "      height: 32px;\n",
              "      padding: 0 0 0 0;\n",
              "      width: 32px;\n",
              "    }\n",
              "\n",
              "    .colab-df-convert:hover {\n",
              "      background-color: #E2EBFA;\n",
              "      box-shadow: 0px 1px 2px rgba(60, 64, 67, 0.3), 0px 1px 3px 1px rgba(60, 64, 67, 0.15);\n",
              "      fill: #174EA6;\n",
              "    }\n",
              "\n",
              "    [theme=dark] .colab-df-convert {\n",
              "      background-color: #3B4455;\n",
              "      fill: #D2E3FC;\n",
              "    }\n",
              "\n",
              "    [theme=dark] .colab-df-convert:hover {\n",
              "      background-color: #434B5C;\n",
              "      box-shadow: 0px 1px 3px 1px rgba(0, 0, 0, 0.15);\n",
              "      filter: drop-shadow(0px 1px 2px rgba(0, 0, 0, 0.3));\n",
              "      fill: #FFFFFF;\n",
              "    }\n",
              "  </style>\n",
              "\n",
              "      <script>\n",
              "        const buttonEl =\n",
              "          document.querySelector('#df-e254d021-c63c-4496-ba7d-b4e168f0d80d button.colab-df-convert');\n",
              "        buttonEl.style.display =\n",
              "          google.colab.kernel.accessAllowed ? 'block' : 'none';\n",
              "\n",
              "        async function convertToInteractive(key) {\n",
              "          const element = document.querySelector('#df-e254d021-c63c-4496-ba7d-b4e168f0d80d');\n",
              "          const dataTable =\n",
              "            await google.colab.kernel.invokeFunction('convertToInteractive',\n",
              "                                                     [key], {});\n",
              "          if (!dataTable) return;\n",
              "\n",
              "          const docLinkHtml = 'Like what you see? Visit the ' +\n",
              "            '<a target=\"_blank\" href=https://colab.research.google.com/notebooks/data_table.ipynb>data table notebook</a>'\n",
              "            + ' to learn more about interactive tables.';\n",
              "          element.innerHTML = '';\n",
              "          dataTable['output_type'] = 'display_data';\n",
              "          await google.colab.output.renderOutput(dataTable, element);\n",
              "          const docLink = document.createElement('div');\n",
              "          docLink.innerHTML = docLinkHtml;\n",
              "          element.appendChild(docLink);\n",
              "        }\n",
              "      </script>\n",
              "    </div>\n",
              "  </div>\n",
              "  "
            ]
          },
          "metadata": {},
          "execution_count": 37
        }
      ],
      "source": [
        "def run_xgboost(imbalance=False):\n",
        "    # Split data  \n",
        "    X_train, X_test, y_train, y_test = data_split(X, y, imbalance = imbalance)\n",
        "    \n",
        "    # Instantiate model with default parameters\n",
        "    clf_xgb = XGBClassifier()\n",
        "    \n",
        "    # Fit the model\n",
        "    clf_xgb.fit(X_train, y_train)\n",
        "\n",
        "    # Use model's default parameters to get cross validation score\n",
        "    scores = cross_val_score(clf_xgb, X_train, y_train, scoring =\"roc_auc\", cv = 5)\n",
        "    roc_auc_xgb = np.mean(scores)\n",
        "    \n",
        "    if imbalance:\n",
        "        return \"XGBoost\", \"With SMOTE\", roc_auc_xgb\n",
        "    else:\n",
        "        return \"XGBoost\", \"Without SMOTE\", roc_auc_xgb\n",
        "\n",
        "    \n",
        "model_result = []\n",
        "model_result.append(run_xgboost())                  \n",
        "model_result.append(run_xgboost(imbalance=True))    \n",
        "\n",
        "pd.DataFrame(model_result, columns = [\"Model\", \"SMOTE\", \"ROC_AUC Score\"])"
      ]
    },
    {
      "cell_type": "markdown",
      "metadata": {
        "id": "rivkOIeVL3AA"
      },
      "source": [
        "**Since SMOTE sampling performed better on training data, we will use SMOTE sampling and initial best guess parameters to fit the model.**"
      ]
    },
    {
      "cell_type": "code",
      "execution_count": 38,
      "metadata": {
        "id": "NoGm29LsfXW7"
      },
      "outputs": [],
      "source": [
        "# Sampling and split data with SMOTE\n",
        "X_train_sm, X_test, y_train_sm, y_test = data_split(X, y, imbalance = True)"
      ]
    },
    {
      "cell_type": "code",
      "execution_count": 39,
      "metadata": {
        "colab": {
          "base_uri": "https://localhost:8080/"
        },
        "id": "GLYQOoAPfZyT",
        "outputId": "a86c95c3-6188-4afd-ff03-2fc1113a1ec7"
      },
      "outputs": [
        {
          "output_type": "stream",
          "name": "stdout",
          "text": [
            "ROC_AUC training score with initial best parameters for XGBoost: 0.853\n"
          ]
        }
      ],
      "source": [
        "# Instantiate models with initial best guess parameters\n",
        "\n",
        "params = { \n",
        "    'gamma':0,\n",
        "    'learning_rate':0.01, \n",
        "    'max_depth':3, \n",
        "    'colsample_bytree':0.6,\n",
        "    'subsample':0.8,\n",
        "    'scale_pos_weight':3.5,\n",
        "    'n_estimators':1000,\n",
        "    'objective':'binary:logistic', \n",
        "    'reg_alpha':0.3    \n",
        "}\n",
        "    \n",
        "# Instantiate model\n",
        "clf_xgb = XGBClassifier(**params)\n",
        "\n",
        "# Use model's initial parameters to get cross validation score\n",
        "scores = cross_val_score(clf_xgb, X_train_sm, y_train_sm, scoring =\"roc_auc\", cv = 5)\n",
        "roc_auc_xgb = np.mean(scores)\n",
        "\n",
        "print(f'ROC_AUC training score with initial best parameters for XGBoost: {roc_auc_xgb:.3f}')"
      ]
    },
    {
      "cell_type": "markdown",
      "metadata": {
        "id": "xMIdBt_Of42e"
      },
      "source": [
        "**Tune Parameters of XGBoost**"
      ]
    },
    {
      "cell_type": "code",
      "execution_count": 40,
      "metadata": {
        "colab": {
          "base_uri": "https://localhost:8080/"
        },
        "id": "6ZT_M38of4En",
        "outputId": "725774ff-fa50-4e41-8b61-610857df71d8"
      },
      "outputs": [
        {
          "output_type": "stream",
          "name": "stdout",
          "text": [
            "{'n_estimators': array([200, 400, 600, 800]), 'gamma': array([0.1, 0.2, 0.3, 0.4, 0.5]), 'learning_rate': array([0.1, 0.2, 0.3, 0.4, 0.5]), 'max_depth': [3, 4, 5, 6, 7], 'subsample': array([0.5, 0.6, 0.7, 0.8]), 'colsample_bytree': array([0.5, 0.6, 0.7, 0.8]), 'scale_pos_weight': [1, 3.5]}\n"
          ]
        }
      ],
      "source": [
        "# Number of trees\n",
        "n_estimators = np.arange(200,1000,200)\n",
        "\n",
        "# Minimum loss reduction required to make a further partition on a leaf node of the tree\n",
        "# The larger gamma is, the more conservative the algorithm will be\n",
        "gamma = np.arange(0.1,0.6,0.1)\n",
        "\n",
        "# Default 0.3, range(0,1)\n",
        "learning_rate = np.arange(0.1,0.6,0.1)\n",
        "\n",
        "# Maximum number of levels in tree\n",
        "max_depth = list(range(3,8,1))\n",
        "\n",
        "# Subsample ratio of the training instances.Range(0,1)\n",
        "subsample = np.arange(0.5,0.9,0.1)\n",
        "\n",
        "# Subsample ratio of columns when constructing each tree. Range(0,1)\n",
        "colsample_bytree = np.arange(0.5,0.9,0.1)\n",
        "\n",
        "# Control the balance of positive and negative weights\n",
        "# Sum(negative instances) / sum(positive instances)\n",
        "scale_pos_weight = [1,3.5]\n",
        "\n",
        "\n",
        "# Create the random grid\n",
        "random_grid_xgb = {'n_estimators': n_estimators,\n",
        "                   'gamma': gamma,\n",
        "                   'learning_rate':learning_rate,\n",
        "                   'max_depth': max_depth,\n",
        "                   'subsample':subsample,\n",
        "                   'colsample_bytree':colsample_bytree,\n",
        "                   'scale_pos_weight':scale_pos_weight\n",
        "                  }\n",
        "print(random_grid_xgb)"
      ]
    },
    {
      "cell_type": "code",
      "execution_count": 41,
      "metadata": {
        "colab": {
          "base_uri": "https://localhost:8080/"
        },
        "id": "YXvAqaakgX4t",
        "outputId": "1465e0ba-4095-496a-e326-0059d82675d6"
      },
      "outputs": [
        {
          "output_type": "stream",
          "name": "stdout",
          "text": [
            "Fitting 3 folds for each of 100 candidates, totalling 300 fits\n",
            "{'subsample': 0.6, 'scale_pos_weight': 3.5, 'n_estimators': 600, 'max_depth': 7, 'learning_rate': 0.2, 'gamma': 0.1, 'colsample_bytree': 0.7999999999999999} 0.8994999654499453\n"
          ]
        }
      ],
      "source": [
        "# Use randomized search to find best parameters\n",
        "\n",
        "xgboost = XGBClassifier()\n",
        "xgb_random = RandomizedSearchCV(estimator = xgboost, \n",
        "                                param_distributions = random_grid_xgb, \n",
        "                                n_iter = 100, \n",
        "                                cv = 3, \n",
        "                                verbose=1, \n",
        "                                random_state=42, \n",
        "                                n_jobs = -1,\n",
        "                                scoring ='roc_auc')\n",
        "\n",
        "\n",
        "xgb_random.fit(X_train_sm, y_train_sm)   \n",
        "xgb_random.best_params_, xgb_random.best_score_\n",
        "\n",
        "print(xgb_random.best_params_,xgb_random.best_score_)"
      ]
    },
    {
      "cell_type": "markdown",
      "metadata": {
        "id": "uRHthKKFMDHK"
      },
      "source": [
        "**Observation - After tuning hyperparameters, XGBoost has a ROC_AUC score of 0.899 on training data.**"
      ]
    },
    {
      "cell_type": "markdown",
      "metadata": {
        "id": "mzUoEeRegbqW"
      },
      "source": [
        "**XGBoost Model Evaluation**"
      ]
    },
    {
      "cell_type": "code",
      "execution_count": 42,
      "metadata": {
        "colab": {
          "base_uri": "https://localhost:8080/"
        },
        "id": "aZU0YHHzgaRX",
        "outputId": "5902f313-ff7b-4aef-fef0-e6088dc8964c"
      },
      "outputs": [
        {
          "output_type": "stream",
          "name": "stdout",
          "text": [
            "XGBoost model on test data:\n",
            "Precision:0.444\n",
            "Recall:0.505\n",
            "F1 score:0.473\n"
          ]
        }
      ],
      "source": [
        "# Compute precision, recall and F1 score of tuned XGBoost model on test data\n",
        "\n",
        "print('XGBoost model on test data:')\n",
        "\n",
        "get_pre_rec_f1(xgb_random, X_test, y_test)"
      ]
    },
    {
      "cell_type": "markdown",
      "metadata": {
        "id": "RmUwC8v9getI"
      },
      "source": [
        "##**Model Comparison**"
      ]
    },
    {
      "cell_type": "markdown",
      "metadata": {
        "id": "MfKPmgsfghaO"
      },
      "source": [
        "**Confusion Matrix**"
      ]
    },
    {
      "cell_type": "code",
      "execution_count": 43,
      "metadata": {
        "colab": {
          "base_uri": "https://localhost:8080/",
          "height": 910
        },
        "id": "Vz6JODwwgfIB",
        "outputId": "69594f47-5f52-4a94-bd4f-c9b7838f139a"
      },
      "outputs": [
        {
          "output_type": "execute_result",
          "data": {
            "text/plain": [
              "Text(0.5, 1.0, 'XGBoost')"
            ]
          },
          "metadata": {},
          "execution_count": 43
        },
        {
          "output_type": "display_data",
          "data": {
            "text/plain": [
              "<Figure size 720x1080 with 6 Axes>"
            ],
            "image/png": "[encoded data removed]"
          },
          "metadata": {
            "needs_background": "light"
          }
        }
      ],
      "source": [
        "# Plot confusion matrix of 3 models\n",
        "\n",
        "fig,ax=plt.subplots(3,1, figsize=(10,15))\n",
        "\n",
        "plot_confusion_matrix(lr_best, X_test_std, y_test, ax = ax[0])\n",
        "ax[0].set_title(\"Logistic Regression\")\n",
        "\n",
        "plot_confusion_matrix(rf_best, X_test, y_test, ax = ax[1])\n",
        "ax[1].set_title(\"Random Forest\")\n",
        "\n",
        "plot_confusion_matrix(xgb_random, X_test, y_test, ax = ax[2])\n",
        "ax[2].set_title(\"XGBoost\")"
      ]
    },
    {
      "cell_type": "markdown",
      "metadata": {
        "id": "oERk02bIhb6k"
      },
      "source": [
        "**ROC_AUC Curve**"
      ]
    },
    {
      "cell_type": "code",
      "execution_count": 44,
      "metadata": {
        "colab": {
          "base_uri": "https://localhost:8080/",
          "height": 350
        },
        "id": "Fw7IukbShbm4",
        "outputId": "420963f9-99cc-4889-e63f-5608dced09ab"
      },
      "outputs": [
        {
          "output_type": "display_data",
          "data": {
            "text/plain": [
              "<Figure size 720x360 with 1 Axes>"
            ],
            "image/png": "[encoded data removed]"
          },
          "metadata": {
            "needs_background": "light"
          }
        }
      ],
      "source": [
        "# Plot ROC_AUC curve of 3 models\n",
        " \n",
        "fig,ax=plt.subplots(figsize=(10,5))\n",
        "\n",
        "plot_roc_curve(lr_best, X_test_std, y_test,ax=ax, color=\"blue\",label='Logistic Regression')\n",
        "plot_roc_curve(rf_best, X_test, y_test,ax=ax, color=\"black\",label='Random Forest')\n",
        "plot_roc_curve(xgb_random, X_test, y_test,ax=ax, color=\"red\",label='XGBoost')\n",
        "\n",
        "plt.title('ROC/AUC of 3 models')\n",
        "plt.grid()"
      ]
    },
    {
      "cell_type": "markdown",
      "metadata": {
        "id": "CtxxXjW-hfuT"
      },
      "source": [
        "**Precision_Recall Curve**\n",
        "\n",
        "* Since the classes are imbalanced, precision_recall curve is more approriate."
      ]
    },
    {
      "cell_type": "code",
      "execution_count": 45,
      "metadata": {
        "colab": {
          "base_uri": "https://localhost:8080/",
          "height": 350
        },
        "id": "hdksFTHkhfDI",
        "outputId": "35e40032-16b3-4a07-c7a7-da45debbe267"
      },
      "outputs": [
        {
          "output_type": "display_data",
          "data": {
            "text/plain": [
              "<Figure size 720x360 with 1 Axes>"
            ],
            "image/png": "[encoded data removed]"
          },
          "metadata": {
            "needs_background": "light"
          }
        }
      ],
      "source": [
        "# Compare 3 models' Precision_recall curves\n",
        "\n",
        "fig,ax=plt.subplots(figsize=(10,5))\n",
        "\n",
        "plot_precision_recall_curve(lr_best, X_test_std, y_test, ax=ax,color=\"blue\",label='Logistic Regression')\n",
        "plot_precision_recall_curve(rf_best, X_test, y_test, ax=ax,color=\"black\",label='Random Forest')\n",
        "plot_precision_recall_curve(xgb_random, X_test, y_test, ax=ax,color=\"red\",label='XGBoost')\n",
        "\n",
        "plt.title('Precision_Recall of 3 models')\n",
        "plt.grid()"
      ]
    },
    {
      "cell_type": "markdown",
      "metadata": {
        "id": "5nFfyiRwhs0h"
      },
      "source": [
        "**Compare Models with DummyClassifier**"
      ]
    },
    {
      "cell_type": "code",
      "execution_count": 46,
      "metadata": {
        "colab": {
          "base_uri": "https://localhost:8080/"
        },
        "id": "R_y3d6sght-5",
        "outputId": "5cb32ec8-8262-4ee6-98e5-9c9e943f082b"
      },
      "outputs": [
        {
          "output_type": "stream",
          "name": "stdout",
          "text": [
            "Dummy model:\n",
            "Precision:0.222\n",
            "Recall:0.507\n",
            "F1 score:0.308\n"
          ]
        }
      ],
      "source": [
        "from sklearn.dummy import DummyClassifier\n",
        "\n",
        "dummy_clf = DummyClassifier(strategy=\"stratified\")\n",
        "dummy_clf.fit(X_train, y_train)\n",
        "DummyClassifier(strategy='stratified')\n",
        "y_pred_dummy = dummy_clf.predict(X_test)\n",
        "\n",
        "print('Dummy model:')\n",
        "get_pre_rec_f1(dummy_clf, X_test, y_test)"
      ]
    },
    {
      "cell_type": "markdown",
      "metadata": {
        "id": "q1zrmXDw6VQ5"
      },
      "source": [
        " Logistic Regression model has the best recall and Random Forest has the best Precision_Recall balance."
      ]
    },
    {
      "cell_type": "markdown",
      "metadata": {
        "id": "OEBg7iGshweZ"
      },
      "source": [
        "**Model Recommendation**\n",
        "\n",
        "* **Recommend recall = 0.8, however, the threshold can be adjusted to reach higher recall.**"
      ]
    },
    {
      "cell_type": "code",
      "execution_count": 47,
      "metadata": {
        "colab": {
          "base_uri": "https://localhost:8080/"
        },
        "id": "IH3oL6oyh27x",
        "outputId": "79b7544c-c936-4ad4-bffd-e7f356128d16"
      },
      "outputs": [
        {
          "output_type": "execute_result",
          "data": {
            "text/plain": [
              "(0.7995981918633852, 0.3317357782871432, 0.2648812391312391)"
            ]
          },
          "metadata": {},
          "execution_count": 47
        }
      ],
      "source": [
        "# Compute precision, recall and threshold of Random Forest\n",
        "\n",
        "y_predict_rf = rf_best.predict_proba(X_test)\n",
        "y_scores_rf = y_predict_rf[:,1]\n",
        "\n",
        "precisions, recalls, thresholds = precision_recall_curve(y_test, y_scores_rf)\n",
        "\n",
        "recalls_80 = recalls[np.argmin(recalls >= 0.80)]               # Recommend recall score = 0.8\n",
        "precision_80 = precisions[np.argmin(recalls >= 0.80)]            \n",
        "threshold_80_recall = thresholds[np.argmin(recalls >= 0.80)]     #np. argmin() function is used to get the indices of the minimum element from an array (single-dimensional array) or any row or column (multidimensional array) of any given array. \n",
        "\n",
        "thresholds = np.append(thresholds, 1)\n",
        "\n",
        "recalls_80, precision_80, threshold_80_recall"
      ]
    },
    {
      "cell_type": "code",
      "execution_count": 48,
      "metadata": {
        "colab": {
          "base_uri": "https://localhost:8080/",
          "height": 350
        },
        "id": "mhVFIxazh7v4",
        "outputId": "358b73ee-30bf-41a4-e95e-e737697991ab"
      },
      "outputs": [
        {
          "output_type": "display_data",
          "data": {
            "text/plain": [
              "<Figure size 720x360 with 1 Axes>"
            ],
            "image/png": "[encoded data removed]"
          },
          "metadata": {
            "needs_background": "light"
          }
        }
      ],
      "source": [
        "# Plot recommended recall = 0.8\n",
        "\n",
        "fig, ax = plt.subplots(figsize=(10,5))\n",
        "\n",
        "ax.plot(thresholds, recalls, label='Recalls')\n",
        "ax.plot(thresholds, precisions, label='Precisions')\n",
        "\n",
        "ax.plot([threshold_80_recall, threshold_80_recall], [precision_80, recalls_80], \"r:\" )\n",
        "ax.plot([threshold_80_recall, threshold_80_recall], [0, precision_80], \"r:\")\n",
        "ax.plot([0, threshold_80_recall], [precision_80, precision_80], \"r:\")\n",
        "ax.plot([0, threshold_80_recall], [recalls_80, recalls_80], \"r:\")\n",
        "ax.plot([threshold_80_recall], [recalls_80], \"ro\", label='Threshold')\n",
        "\n",
        "ax.set_xlabel('Threshold')\n",
        "ax.set_ylabel('Precisons / Recalls')\n",
        "ax.legend(loc='center right',fontsize=16)\n",
        "plt.title('Model Recommendation(Recalls = 0.8)')\n",
        "plt.savefig('recommended_recall')\n",
        "plt.show()"
      ]
    },
    {
      "cell_type": "markdown",
      "metadata": {
        "id": "NdpO9rSOh9rJ"
      },
      "source": [
        "**Feature Importances**"
      ]
    },
    {
      "cell_type": "code",
      "execution_count": 49,
      "metadata": {
        "colab": {
          "base_uri": "https://localhost:8080/",
          "height": 517
        },
        "id": "1JSeyHqOh-z4",
        "outputId": "6af68f41-71e4-4906-a045-a8fc6567a341"
      },
      "outputs": [
        {
          "output_type": "execute_result",
          "data": {
            "text/plain": [
              "Text(0.5, 1.0, 'Features importance')"
            ]
          },
          "metadata": {},
          "execution_count": 49
        },
        {
          "output_type": "display_data",
          "data": {
            "text/plain": [
              "<Figure size 720x576 with 1 Axes>"
            ],
            "image/png": "[encoded data removed]"
          },
          "metadata": {
            "needs_background": "light"
          }
        }
      ],
      "source": [
        "# Plot feature importance of winner model - Random Forest\n",
        "\n",
        "fea_df = pd.DataFrame({'Feature': feature_cols, 'Feature importance': rf_best.feature_importances_})\n",
        "fea_df = fea_df.sort_values(by='Feature importance')\n",
        "\n",
        "figure, ax = plt.subplots(figsize = (10,8))\n",
        "fea_df.plot.barh(x='Feature',y='Feature importance', ax=ax)\n",
        "plt.title('Features importance',fontsize=14)"
      ]
    },
    {
      "cell_type": "markdown",
      "metadata": {
        "id": "bY9ttbKcOPHN"
      },
      "source": [
        "###**Conclusion**\n",
        "\n",
        "\n",
        "**Logistic Regression model has the highest recall but the lowest precision, if the business cares recall the most, then this model is the best candidate. If the balance of recall and precision is the most important metric, then Random Forest is the ideal model. Since Random Forest has slightly lower recall but much higher precision than Logistic Regression, I would recommend Random Forest.**"
      ]
    }
  ]
}